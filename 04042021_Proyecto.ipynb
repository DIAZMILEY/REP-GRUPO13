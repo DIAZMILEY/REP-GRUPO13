{
  "nbformat": 4,
  "nbformat_minor": 0,
  "metadata": {
    "colab": {
      "name": "04042021 Proyecto.ipynb",
      "provenance": [],
      "authorship_tag": "ABX9TyP6CqyV99heFdDPTwrSaeqU",
      "include_colab_link": true
    },
    "kernelspec": {
      "name": "python3",
      "display_name": "Python 3"
    },
    "language_info": {
      "name": "python"
    }
  },
  "cells": [
    {
      "cell_type": "markdown",
      "metadata": {
        "id": "view-in-github",
        "colab_type": "text"
      },
      "source": [
        "<a href=\"https://colab.research.google.com/github/DIAZMILEY/REP-GRUPO13/blob/main/04042021_Proyecto.ipynb\" target=\"_parent\"><img src=\"https://colab.research.google.com/assets/colab-badge.svg\" alt=\"Open In Colab\"/></a>"
      ]
    },
    {
      "cell_type": "markdown",
      "metadata": {
        "id": "zqrpzgOXYGrv"
      },
      "source": [
        "# **DOCUMENTACIÓN PROYECTO EL SENTIMIENTO DE VIAJAR**"
      ]
    },
    {
      "cell_type": "markdown",
      "metadata": {
        "id": "mfIyBOoleLu6"
      },
      "source": [
        "INTRODUCCIÓN.\n"
      ]
    },
    {
      "cell_type": "markdown",
      "metadata": {
        "id": "0RpOuwXUeLzO"
      },
      "source": [
        "ALCANCE.\n"
      ]
    },
    {
      "cell_type": "markdown",
      "metadata": {
        "id": "jyH1O6d0eL4_"
      },
      "source": [
        "OBJETIVOS.\n"
      ]
    },
    {
      "cell_type": "markdown",
      "metadata": {
        "id": "Q9S0T8T_eMLy"
      },
      "source": [
        "MARCO TEORICO.\n"
      ]
    },
    {
      "cell_type": "markdown",
      "metadata": {
        "id": "H7YdfVEigWOl"
      },
      "source": [
        "Lenguaje Natural:"
      ]
    },
    {
      "cell_type": "markdown",
      "metadata": {
        "id": "lV2q9CxBgih5"
      },
      "source": [
        "Clasificación:"
      ]
    },
    {
      "cell_type": "markdown",
      "metadata": {
        "id": "FRsdVc_CgmJt"
      },
      "source": [
        "Analisis de Sentimientos:\n"
      ]
    },
    {
      "cell_type": "markdown",
      "metadata": {
        "id": "CA1iDwntgpPn"
      },
      "source": [
        "Definición y ejemplos mas usados para PLN (Procesamiento de Lenguaje Natural):\n"
      ]
    },
    {
      "cell_type": "markdown",
      "metadata": {
        "id": "XEIRyCeQWKJC"
      },
      "source": [
        "Los seres humanos humanos nos comunicamos a través de Lenguaje Natural (Ingles, Español, francés), lo anterior por medio de texto, voz y signos, actividades que actualmente ya procesa una computadora con programas como SIRI ó ALEXA, sin embargo surgió un gran reto y fue que los ordenadores pudiesen comunicarse con el hombre por medio del lenguaje natural, allí nació la Programación de Lenguaje Natural (PLN).\n",
        "El PLN, lo podemos definir como un campo de la inteligencia artificial que se encarga de investigar una forma efectiva de comunicar las máquinas con las personas a través del análisis grandes bases de datos estructuradas o no estructuradas de forma consistente e imparcial, sin fatigarse.\n",
        "\n",
        "Las computadoras solo entienden bytes y dígitos, los cuales son codificados por medio de programas como Python, se escriben una serie de reglas definiendo patrones computacionales y probabilidades de aparecer en un contexto determinado sin la exclusividad de cumplir con reglas gramaticales.\n",
        "\n",
        "Un ejemplo de un programa normal y un programa de Lenguaje Natural es: un programa como un Reconocimiento de voz y un PLN, el primero no necesita un análisis semántico o pragmático, cosa que si sucedería con sistema conversacional, el cual requiere entender lo que se le dice, procesarlo y entregar una respuesta con suficiente dominio temático. \n"
      ]
    },
    {
      "cell_type": "markdown",
      "metadata": {
        "id": "WI25Fwx-gbRl"
      },
      "source": [
        "LOS COMPONENTES DEL PLN:\n",
        "1. Análisis morfológico: Se basa en análisis de una serie de palabras extrayendo rasgos flexivos, entre otros.\n",
        "2. Análisis sintáctico: Identifica la estructura de las oraciones usando la lógica y la estadística.\n",
        "3. Análisis semántico: Interpreta oraciones eliminando previamente las ambigüedades mofosintácticas.\n",
        "4. Análisis pragmático: Realiza el análisis de lenguaje figurado como metáforas o ironía.\n"
      ]
    },
    {
      "cell_type": "markdown",
      "metadata": {
        "id": "iYkRDAkZgHwh"
      },
      "source": [
        "ALGUNAS DE SUS APLICACIONES:\n",
        "\n",
        "A nivel general se puede utilizar buscando patrones para detectar o resolver delitos, clasificar temas que permitan descubrir tendencias, descubrir sentimientos, entre otros, a continuación veremos algunas de sus aplicaciones.\n",
        "\n",
        "\n",
        "* Sistemas conversaciones. (Interacción entre humanos y máquina por medio de voz “conversación”).\n",
        "\n",
        "* Recuperación y extracción  de información. Sus inicios fueron los buscadores de internet, teniendo en cuenta que con la llegada de esté no era fácil acceder a la cantidad de información publicada.\n",
        "\n",
        "* Etiquetado morfológico, sintáctico y semántico. \n",
        "    *__Respuestas automáticas a preguntas: Un ejemplo de ello es Watson de IBM que encuentra rápidamente la relación entre preguntas y respuestas utilizando gran cantidad de Bases de Datos y múltiples niveles de conocimiento. \n",
        "    *__Análisis de sentimientos de los textos: es la identificación del estado de ánimo en grandes cantidades de texto, mayormente usado en redes sociales permitiendo identificar y clasificar tipos de usuarios, sus intereses, su relación entre ellos.\n",
        "\n",
        "* Realización de resúmenes de textos automáticos:\n",
        "* Clasificación de documentos por categorias."
      ]
    },
    {
      "cell_type": "code",
      "metadata": {
        "id": "_qdrqghwXlrH"
      },
      "source": [
        ""
      ],
      "execution_count": null,
      "outputs": []
    }
  ]
}