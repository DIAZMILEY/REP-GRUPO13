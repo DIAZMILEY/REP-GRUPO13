{
  "nbformat": 4,
  "nbformat_minor": 0,
  "metadata": {
    "colab": {
      "name": "04042021 Proyecto.ipynb",
      "provenance": [],
      "collapsed_sections": [],
      "authorship_tag": "ABX9TyMnpujfAypsF+184gt59zSi",
      "include_colab_link": true
    },
    "kernelspec": {
      "name": "python3",
      "display_name": "Python 3"
    },
    "language_info": {
      "name": "python"
    }
  },
  "cells": [
    {
      "cell_type": "markdown",
      "metadata": {
        "id": "view-in-github",
        "colab_type": "text"
      },
      "source": [
        "<a href=\"https://colab.research.google.com/github/DIAZMILEY/REP-GRUPO13/blob/main/04042021_Proyecto.ipynb\" target=\"_parent\"><img src=\"https://colab.research.google.com/assets/colab-badge.svg\" alt=\"Open In Colab\"/></a>"
      ]
    },
    {
      "cell_type": "markdown",
      "metadata": {
        "id": "zqrpzgOXYGrv"
      },
      "source": [
        "# **DOCUMENTACIÓN PROYECTO \"OCIO Y SENTIMIENTO ¿POSITIVO O NEGATIVO?\".**"
      ]
    },
    {
      "cell_type": "markdown",
      "metadata": {
        "id": "mfIyBOoleLu6"
      },
      "source": [
        "## ***`INTRODUCCIÓN.`***\n"
      ]
    },
    {
      "cell_type": "markdown",
      "metadata": {
        "id": "nkeHzSzm1pQU"
      },
      "source": [
        "El proyecto tiene como fin realizar el analisis del sentimiento de los usuarios de Amazon especificamente en uno de sus productos llamado Amazon Prime Video, el estudio es realizará haciendo uso de la herramienta para recabar información usada por Amazon llamada IMBD, esta página permite que los usuarios califiquen los aspectos técnicos y narrativos de un filme creando una fuente de información alimentada por miles de personas.\n",
        "\n",
        "De acuerdo a lo anterior se pudo tener acceso a una base de datos de aproximadamente 500.000 reviews para obtener el grado de confiabilidad basado en parámetros asignados bajo el peso de palabras especificas, el limite estaría en calificaciones discretas de 1 a 5 según la valoración de las palabras o el conjunto de palabras que definan una posible calificación, según se podría llegar a tendencias que indicaran un menor grado de separación entre calificaciones.\n",
        "\n",
        "Las reviews en general están acompañadas de una calificación por lo que se podría deducir que tal review contiene implícitamente el valor de la calificación, implicando esto cierta complejidad, por eso se requiere el análisis de gran cantidad de palabras para lograr llegar al punto de predecir la posible calificación que dará una persona a un filme, para se requiere el análisis de gran cantidad de datos, para crear una consistencia estadística que permita cierto grado precisión, basado en premisas lógicas como base de aprendizaje del programa.\n",
        "\n",
        "La información se obtendrá de la: [Base de Datos](https://jmcauley.ucsd.edu/data/amazon/). la cual contiene un amplio abanico de elección de bases de datos basado en los productos que ofrece AMAZON por lo que podría ser una buena fuente siendo este el mayor distribuidor de bienes del mundo contiene una base de datos consistente con gran cantidad y calidad. Esta base de datos esta delimitada por la fecha siendo esta hasta el año 2018 por lo que perdería cierto grado de fiabilidad.\n",
        " "
      ]
    },
    {
      "cell_type": "markdown",
      "metadata": {
        "id": "0RpOuwXUeLzO"
      },
      "source": [
        "## ***`ALCANCE.`***\n",
        "\n",
        "Va desde la identificación de los datos a analizar hasta la clasificación de los comentarios en Twitter de los usuarios de Amazon Prime Video, de tal forma que se pueda calificar el servicio entre bueno o malo, hasta la creación de un listado de palabras clave que indiquen las fortalezas y los aspectos a mejorar de dichas empresas."
      ]
    },
    {
      "cell_type": "markdown",
      "metadata": {
        "id": "jyH1O6d0eL4_"
      },
      "source": [
        "## ***`OBJETIVOS.`***\n"
      ]
    },
    {
      "cell_type": "markdown",
      "metadata": {
        "id": "ijrkHVZE6l02"
      },
      "source": [
        "Elaborar un algoritmo de procesamiento de lenguaje natural, que permita identificar el sentimiento manifestado por los usuarios de Amazon Prime Video."
      ]
    },
    {
      "cell_type": "markdown",
      "metadata": {
        "id": "rfyuwnZz6tmm"
      },
      "source": [
        "**Especificos:**"
      ]
    },
    {
      "cell_type": "markdown",
      "metadata": {
        "id": "rsOhX84U623x"
      },
      "source": [
        "* Implementar un algoritmo que permita clasificar los sentimientos de los usuarios.\n",
        "\n",
        "* Realizar un análisis de todos los textos, que permita encontrar las palabras más relevantes o frecuentes, que influyen en la definición del sentimiento hacia el servicio utilizado.\n",
        "\n",
        "* Generar clústeres de palabras que permitan definir un constructo en función de los sentimientos."
      ]
    },
    {
      "cell_type": "markdown",
      "metadata": {
        "id": "Q9S0T8T_eMLy"
      },
      "source": [
        "## ***`MARCO TEORICO.`***\n"
      ]
    },
    {
      "cell_type": "markdown",
      "metadata": {
        "id": "DbMZdPsl5Tth"
      },
      "source": [
        "## ***`Amazon:`***"
      ]
    },
    {
      "cell_type": "markdown",
      "metadata": {
        "id": "6XigbRcs3RL1"
      },
      "source": [
        "Es una compañía Estadounidense fundada en 1994, la cual se dedica al comercio electrónico que va desde la venta de artículos en línea hasta la oferta de servicios en la nube. \n",
        "En este proyecto nos concentramos analizar la percepción de uno de sus nichos que es Amazon Prime Video, es un servicio que tiene disponibilidad en más de 200 países y su finalidad es poner a disposición de sus suscriptores películas y series, plataforma creada y gestionada por Amazon, esto la convierte en una competidora de Netflix y HBO.\n",
        "Una de las principales características de Amazon Prime Video es que su contenido está compuesto principalmente por películas y series producidas por Amazon, lo cual hace que tenga una base de datos reducida respecto de su competencia, a raíz de esto la empresa Amazon decidió aliarse con grandes compañías como Marvel, Pixar , Disney entre otras para transmitir todas sus películas."
      ]
    },
    {
      "cell_type": "markdown",
      "metadata": {
        "id": "H7YdfVEigWOl"
      },
      "source": [
        "## ***`Lenguaje Natural:`***"
      ]
    },
    {
      "cell_type": "markdown",
      "metadata": {
        "id": "CA1iDwntgpPn"
      },
      "source": [
        "## ***`Definición y ejemplos mas usados para PLN (Procesamiento de Lenguaje Natural):`***\n"
      ]
    },
    {
      "cell_type": "markdown",
      "metadata": {
        "id": "XEIRyCeQWKJC"
      },
      "source": [
        "Los seres humanos humanos nos comunicamos a través de Lenguaje Natural (Ingles, Español, francés), lo anterior por medio de texto, voz y signos, actividades que actualmente ya procesa una computadora con programas como SIRI ó ALEXA, sin embargo surgió un gran reto y fue que los ordenadores pudiesen comunicarse con el hombre por medio del lenguaje natural, allí nació la Programación de Lenguaje Natural (PLN).\n",
        "El PLN, lo podemos definir como un campo de la inteligencia artificial que se encarga de investigar una forma efectiva de comunicar las máquinas con las personas a través del análisis grandes bases de datos estructuradas o no estructuradas de forma consistente e imparcial, sin fatigarse.\n",
        "\n",
        "Las computadoras solo entienden bytes y dígitos, los cuales son codificados por medio de programas como Python, se escriben una serie de reglas definiendo patrones computacionales y probabilidades de aparecer en un contexto determinado sin la exclusividad de cumplir con reglas gramaticales.\n",
        "\n",
        "Un ejemplo de un programa normal y un programa de Lenguaje Natural es: un programa como un Reconocimiento de voz y un PLN, el primero no necesita un análisis semántico o pragmático, cosa que si sucedería con sistema conversacional, el cual requiere entender lo que se le dice, procesarlo y entregar una respuesta con suficiente dominio temático. \n"
      ]
    },
    {
      "cell_type": "markdown",
      "metadata": {
        "id": "WI25Fwx-gbRl"
      },
      "source": [
        "**LOS COMPONENTES DEL PLN:**\n",
        "1. Análisis morfológico: Se basa en análisis de una serie de palabras extrayendo rasgos flexivos, entre otros.\n",
        "2. Análisis sintáctico: Identifica la estructura de las oraciones usando la lógica y la estadística.\n",
        "3. Análisis semántico: Interpreta oraciones eliminando previamente las ambigüedades mofosintácticas.\n",
        "4. Análisis pragmático: Realiza el análisis de lenguaje figurado como metáforas o ironía.\n"
      ]
    },
    {
      "cell_type": "markdown",
      "metadata": {
        "id": "lV2q9CxBgih5"
      },
      "source": [
        "## ***`Aplicaciones:`***"
      ]
    },
    {
      "cell_type": "markdown",
      "metadata": {
        "id": "iYkRDAkZgHwh"
      },
      "source": [
        "A nivel general se puede utilizar buscando patrones para detectar o resolver delitos, clasificar temas que permitan descubrir tendencias, descubrir sentimientos, entre otros, a continuación veremos algunas de sus aplicaciones.\n",
        "\n",
        "\n",
        "* Sistemas conversaciones. (Interacción entre humanos y máquina por medio de voz “conversación”).\n",
        "\n",
        "* Recuperación y extracción  de información. Sus inicios fueron los buscadores de internet, teniendo en cuenta que con la llegada de esté no era fácil acceder a la cantidad de información publicada.\n",
        "\n",
        "* Etiquetado morfológico, sintáctico y semántico, los cuales se dividen en: \n",
        "1.   Respuestas automáticas a preguntas: Un ejemplo de ello es Watson de IBM que encuentra rápidamente la relación entre preguntas y respuestas utilizando gran cantidad de Bases de Datos y múltiples niveles de conocimiento.\n",
        "2.   Análisis de sentimientos de los textos: es la identificación del estado de ánimo en grandes cantidades de texto, mayormente usado en redes sociales permitiendo identificar y clasificar tipos de usuarios, sus intereses, su relación entre ellos. ***(será el que se aplicará en nuestro proyecto)***\n",
        " \n",
        "* Realización de resúmenes de textos automáticos:\n",
        "\n",
        "* Chatbots: Son sistemas capaces de tener una conversación coherente con una persona acerca de un tema específico.\n",
        "\n",
        "* Clasificación de documentos por categorias."
      ]
    },
    {
      "cell_type": "markdown",
      "metadata": {
        "id": "FRsdVc_CgmJt"
      },
      "source": [
        "## ***`Analisis de Sentimientos:`***\n"
      ]
    },
    {
      "cell_type": "markdown",
      "metadata": {
        "id": "E75i05YXdat-"
      },
      "source": [
        "PASOS:\n",
        "1. Extracción de la Información. (Web Scraping) y posterior limpieza de la  información en caso de que tenga datos como emojis.\n",
        "2. Procesamiento de los datos. Esto se hace con la librería de python TextBlob, la cual permite estimar el valor del sentimiento de los twits con un rango de polaridad de -1 a 1.\n",
        "3. Despliegue. Para realizar esta actividad se hace uso de la libreria librerías matplolib para los gráficos y wordcloud para crear una nube con los textos suministrados.\n"
      ]
    },
    {
      "cell_type": "code",
      "metadata": {
        "id": "_qdrqghwXlrH"
      },
      "source": [
        ""
      ],
      "execution_count": null,
      "outputs": []
    }
  ]
}