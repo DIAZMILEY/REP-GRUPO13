{
  "nbformat": 4,
  "nbformat_minor": 0,
  "metadata": {
    "accelerator": "TPU",
    "colab": {
      "name": "AmazonReviews_NPL.ipynb",
      "provenance": [],
      "mount_file_id": "19hi0rfAuLoYqk0G6gl0pshDHZqcSiOnY",
      "authorship_tag": "ABX9TyPflIFrVf09wQNKUaAOTyMz",
      "include_colab_link": true
    },
    "kernelspec": {
      "display_name": "Python 3",
      "name": "python3"
    },
    "language_info": {
      "name": "python"
    }
  },
  "cells": [
    {
      "cell_type": "markdown",
      "metadata": {
        "id": "view-in-github",
        "colab_type": "text"
      },
      "source": [
        "<a href=\"https://colab.research.google.com/github/DIAZMILEY/REP-GRUPO13/blob/main/AmazonReviews_NPL.ipynb\" target=\"_parent\"><img src=\"https://colab.research.google.com/assets/colab-badge.svg\" alt=\"Open In Colab\"/></a>"
      ]
    },
    {
      "cell_type": "markdown",
      "metadata": {
        "id": "NMNYGPNX0921"
      },
      "source": [
        "## **Análisis y clasificación de sentimientos de los comentarios y criticas de los usuarios de amazon sobre diferentes peliculas y videos**"
      ]
    },
    {
      "cell_type": "markdown",
      "metadata": {
        "id": "iSf5XVQh04Um"
      },
      "source": [
        "## **Librerías implementadas en el análisis**"
      ]
    },
    {
      "cell_type": "code",
      "metadata": {
        "colab": {
          "base_uri": "https://localhost:8080/"
        },
        "id": "_iljjhtu0jc9",
        "outputId": "a525cf98-8721-453a-85d0-86e1ff35f7c0"
      },
      "source": [
        "%%time\n",
        "import gzip\n",
        "import json\n",
        "import string\n",
        "import os\n",
        "\n",
        "import nltk # imports the natural language toolkit\n",
        "import pandas as pd\n",
        "import numpy as np\n",
        "from numpy import array\n",
        "from numpy import asarray\n",
        "from numpy import zeros\n",
        "import seaborn as sns\n",
        "import matplotlib.pyplot as plt\n",
        "import re\n",
        "import plotly\n",
        "\n",
        "from nltk.corpus import stopwords\n",
        "\n",
        "# tokenizadores\n",
        "from nltk.tokenize import sent_tokenize, word_tokenize \n",
        "from nltk.tokenize import TweetTokenizer\n",
        "\n",
        "# lematizador basado en WordNet de nltk\n",
        "from nltk.stem import WordNetLemmatizer \n",
        "\n",
        "# steemer de nltk. Raiz de las palabras\n",
        "#from nltk.stem import SnowballStemmer\n",
        "from nltk.stem import PorterStemmer \n",
        "\n",
        "import gensim\n",
        "from gensim.parsing.preprocessing import STOPWORDS\n",
        "\n",
        "from numpy import array\n",
        "from keras.preprocessing.text import one_hot\n",
        "from keras.preprocessing.sequence import pad_sequences\n",
        "from keras.models import Sequential\n",
        "from keras.layers.core import Activation, Dropout, Dense\n",
        "from keras.layers import Flatten\n",
        "from keras.layers import GlobalMaxPooling1D\n",
        "from keras.layers.embeddings import Embedding\n",
        "from tensorflow.keras.layers import LSTM, SpatialDropout1D, Bidirectional\n",
        "from tensorflow.keras import callbacks\n",
        "from sklearn.model_selection import train_test_split\n",
        "from sklearn.metrics import confusion_matrix\n",
        "from tensorflow.keras import layers\n",
        "from keras.preprocessing.text import Tokenizer\n",
        "\n",
        "nltk.download('punkt')\n",
        "nltk.download('stopwords')\n",
        "# wordnet\n",
        "nltk.download('wordnet')"
      ],
      "execution_count": 1,
      "outputs": [
        {
          "output_type": "stream",
          "text": [
            "[nltk_data] Downloading package punkt to /root/nltk_data...\n",
            "[nltk_data]   Unzipping tokenizers/punkt.zip.\n",
            "[nltk_data] Downloading package stopwords to /root/nltk_data...\n",
            "[nltk_data]   Unzipping corpora/stopwords.zip.\n",
            "[nltk_data] Downloading package wordnet to /root/nltk_data...\n",
            "[nltk_data]   Unzipping corpora/wordnet.zip.\n",
            "CPU times: user 3.32 s, sys: 663 ms, total: 3.98 s\n",
            "Wall time: 6.49 s\n"
          ],
          "name": "stdout"
        }
      ]
    },
    {
      "cell_type": "markdown",
      "metadata": {
        "id": "e7bmWCYZ1HUN"
      },
      "source": [
        "## **Conexión a google**"
      ]
    },
    {
      "cell_type": "code",
      "metadata": {
        "colab": {
          "base_uri": "https://localhost:8080/"
        },
        "id": "7z7yABrL0tRW",
        "outputId": "9d56cc52-6bd7-4e53-e3c6-9eb6b2a8e480"
      },
      "source": [
        "from google.colab import drive\n",
        "drive.mount('/content/gdrive')"
      ],
      "execution_count": 2,
      "outputs": [
        {
          "output_type": "stream",
          "text": [
            "Mounted at /content/gdrive\n"
          ],
          "name": "stdout"
        }
      ]
    },
    {
      "cell_type": "markdown",
      "metadata": {
        "id": "N3ZT-8N-1LiF"
      },
      "source": [
        "## ** Proceso de cargue de datos**"
      ]
    },
    {
      "cell_type": "markdown",
      "metadata": {
        "id": "VuKlC4pvJP5r"
      },
      "source": [
        "A continuación se hace el cargue de los comentarios de diversas peliculas y videos con su respectiva calificación"
      ]
    },
    {
      "cell_type": "code",
      "metadata": {
        "colab": {
          "base_uri": "https://localhost:8080/"
        },
        "id": "O6PUwTPa0wjd",
        "outputId": "9424da4d-8c87-4b6f-e308-7c6dea755584"
      },
      "source": [
        "%%time\n",
        "instant_video = pd.read_json(\"/content/gdrive/MyDrive/Diplomado de Inteligencia artificial y deeplearning Unal/Ejemplo NPL/NPL - Amazon/reviews_Amazon_Instant_Video_5.json.gz\", lines=True, compression='gzip')\n",
        "movies_tv = next(pd.read_json(\"/content/gdrive/MyDrive/Diplomado de Inteligencia artificial y deeplearning Unal/Ejemplo NPL/NPL - Amazon/reviews_Movies_and_TV_5.json.gz\", lines=True, compression='gzip', chunksize=500000))"
      ],
      "execution_count": 3,
      "outputs": [
        {
          "output_type": "stream",
          "text": [
            "CPU times: user 29.1 s, sys: 11.1 s, total: 40.3 s\n",
            "Wall time: 44 s\n"
          ],
          "name": "stdout"
        }
      ]
    },
    {
      "cell_type": "code",
      "metadata": {
        "id": "_lF9eRuZchb4"
      },
      "source": [
        "amazon_data = movies_tv.append(instant_video)"
      ],
      "execution_count": 4,
      "outputs": []
    },
    {
      "cell_type": "markdown",
      "metadata": {
        "id": "OtfBh8Ogcv0M"
      },
      "source": [
        "## **Base de datos de peliculas y videos de amazon**"
      ]
    },
    {
      "cell_type": "code",
      "metadata": {
        "colab": {
          "base_uri": "https://localhost:8080/"
        },
        "id": "Rg1B5TDI15Ue",
        "outputId": "2f40a1e3-17e5-427f-fed7-f4ab43622f29"
      },
      "source": [
        "print(len(amazon_data))\n",
        "print(amazon_data.head(5))"
      ],
      "execution_count": 5,
      "outputs": [
        {
          "output_type": "stream",
          "text": [
            "537126\n",
            "       reviewerID        asin  ... unixReviewTime   reviewTime\n",
            "0   ADZPIG9QOCDG5  0005019281  ...     1203984000  02 26, 2008\n",
            "1  A35947ZP82G7JH  0005019281  ...     1388361600  12 30, 2013\n",
            "2  A3UORV8A9D5L2E  0005019281  ...     1388361600  12 30, 2013\n",
            "3  A1VKW06X1O2X7V  0005019281  ...     1202860800  02 13, 2008\n",
            "4  A3R27T4HADWFFJ  0005019281  ...     1387670400  12 22, 2013\n",
            "\n",
            "[5 rows x 9 columns]\n"
          ],
          "name": "stdout"
        }
      ]
    },
    {
      "cell_type": "code",
      "metadata": {
        "colab": {
          "base_uri": "https://localhost:8080/"
        },
        "id": "7i-pm8oG7UVV",
        "outputId": "353244c6-4702-4ff0-b497-5030d311227a"
      },
      "source": [
        "amazon_data.shape"
      ],
      "execution_count": 6,
      "outputs": [
        {
          "output_type": "execute_result",
          "data": {
            "text/plain": [
              "(537126, 9)"
            ]
          },
          "metadata": {
            "tags": []
          },
          "execution_count": 6
        }
      ]
    },
    {
      "cell_type": "code",
      "metadata": {
        "colab": {
          "base_uri": "https://localhost:8080/",
          "height": 354
        },
        "id": "vBkM8QZZ7YYs",
        "outputId": "98786fb2-2673-4e89-feb8-294c143b10aa"
      },
      "source": [
        "amazon_data['datetime'] = pd.to_datetime(amazon_data['reviewTime'], format=\"%m %d, %Y\")\n",
        "amazon_data = amazon_data.drop(columns = ['reviewerID', 'asin', 'reviewTime'])\n",
        "amazon_data.head(5)"
      ],
      "execution_count": 7,
      "outputs": [
        {
          "output_type": "execute_result",
          "data": {
            "text/html": [
              "<div>\n",
              "<style scoped>\n",
              "    .dataframe tbody tr th:only-of-type {\n",
              "        vertical-align: middle;\n",
              "    }\n",
              "\n",
              "    .dataframe tbody tr th {\n",
              "        vertical-align: top;\n",
              "    }\n",
              "\n",
              "    .dataframe thead th {\n",
              "        text-align: right;\n",
              "    }\n",
              "</style>\n",
              "<table border=\"1\" class=\"dataframe\">\n",
              "  <thead>\n",
              "    <tr style=\"text-align: right;\">\n",
              "      <th></th>\n",
              "      <th>reviewerName</th>\n",
              "      <th>helpful</th>\n",
              "      <th>reviewText</th>\n",
              "      <th>overall</th>\n",
              "      <th>summary</th>\n",
              "      <th>unixReviewTime</th>\n",
              "      <th>datetime</th>\n",
              "    </tr>\n",
              "  </thead>\n",
              "  <tbody>\n",
              "    <tr>\n",
              "      <th>0</th>\n",
              "      <td>Alice L. Larson \"alice-loves-books\"</td>\n",
              "      <td>[0, 0]</td>\n",
              "      <td>This is a charming version of the classic Dick...</td>\n",
              "      <td>4</td>\n",
              "      <td>good version of a classic</td>\n",
              "      <td>1203984000</td>\n",
              "      <td>2008-02-26</td>\n",
              "    </tr>\n",
              "    <tr>\n",
              "      <th>1</th>\n",
              "      <td>Amarah Strack</td>\n",
              "      <td>[0, 0]</td>\n",
              "      <td>It was good but not as emotionally moving as t...</td>\n",
              "      <td>3</td>\n",
              "      <td>Good but not as moving</td>\n",
              "      <td>1388361600</td>\n",
              "      <td>2013-12-30</td>\n",
              "    </tr>\n",
              "    <tr>\n",
              "      <th>2</th>\n",
              "      <td>Amazon Customer</td>\n",
              "      <td>[0, 0]</td>\n",
              "      <td>Don't get me wrong, Winkler is a wonderful cha...</td>\n",
              "      <td>3</td>\n",
              "      <td>Winkler's Performance was ok at best!</td>\n",
              "      <td>1388361600</td>\n",
              "      <td>2013-12-30</td>\n",
              "    </tr>\n",
              "    <tr>\n",
              "      <th>3</th>\n",
              "      <td>Amazon Customer \"Softmill\"</td>\n",
              "      <td>[0, 0]</td>\n",
              "      <td>Henry Winkler is very good in this twist on th...</td>\n",
              "      <td>5</td>\n",
              "      <td>It's an enjoyable twist on the classic story</td>\n",
              "      <td>1202860800</td>\n",
              "      <td>2008-02-13</td>\n",
              "    </tr>\n",
              "    <tr>\n",
              "      <th>4</th>\n",
              "      <td>BABE</td>\n",
              "      <td>[0, 0]</td>\n",
              "      <td>This is one of the best Scrooge movies out.  H...</td>\n",
              "      <td>4</td>\n",
              "      <td>Best Scrooge yet</td>\n",
              "      <td>1387670400</td>\n",
              "      <td>2013-12-22</td>\n",
              "    </tr>\n",
              "  </tbody>\n",
              "</table>\n",
              "</div>"
            ],
            "text/plain": [
              "                          reviewerName helpful  ... unixReviewTime   datetime\n",
              "0  Alice L. Larson \"alice-loves-books\"  [0, 0]  ...     1203984000 2008-02-26\n",
              "1                        Amarah Strack  [0, 0]  ...     1388361600 2013-12-30\n",
              "2                      Amazon Customer  [0, 0]  ...     1388361600 2013-12-30\n",
              "3           Amazon Customer \"Softmill\"  [0, 0]  ...     1202860800 2008-02-13\n",
              "4                                 BABE  [0, 0]  ...     1387670400 2013-12-22\n",
              "\n",
              "[5 rows x 7 columns]"
            ]
          },
          "metadata": {
            "tags": []
          },
          "execution_count": 7
        }
      ]
    },
    {
      "cell_type": "markdown",
      "metadata": {
        "id": "xJgUajzCczGK"
      },
      "source": [
        "## **Descripción de los datos**"
      ]
    },
    {
      "cell_type": "code",
      "metadata": {
        "colab": {
          "base_uri": "https://localhost:8080/"
        },
        "id": "B-42BzyE9FkF",
        "outputId": "0d80438c-50ea-46d0-8d55-213bcf783abc"
      },
      "source": [
        "plot_size = plt.rcParams[\"figure.figsize\"] \n",
        "print(plot_size[0]) \n",
        "print(plot_size[1])\n",
        "\n",
        "plot_size[0] = 8\n",
        "plot_size[1] = 6\n",
        "plt.rcParams[\"figure.figsize\"] = plot_size"
      ],
      "execution_count": 8,
      "outputs": [
        {
          "output_type": "stream",
          "text": [
            "6.0\n",
            "4.0\n"
          ],
          "name": "stdout"
        }
      ]
    },
    {
      "cell_type": "code",
      "metadata": {
        "colab": {
          "base_uri": "https://localhost:8080/",
          "height": 374
        },
        "id": "66cLbsIL9Ni1",
        "outputId": "7ba96da1-5f60-439e-e822-1e7ccdd404d2"
      },
      "source": [
        "amazon_data.overall.value_counts().plot(kind='pie', autopct='%1.0f%%', colors=[\"red\", \"yellow\", \"green\",\"blue\",\"orange\"])"
      ],
      "execution_count": 9,
      "outputs": [
        {
          "output_type": "execute_result",
          "data": {
            "text/plain": [
              "<matplotlib.axes._subplots.AxesSubplot at 0x7f31af4df5d0>"
            ]
          },
          "metadata": {
            "tags": []
          },
          "execution_count": 9
        },
        {
          "output_type": "display_data",
          "data": {
            "image/png": "[encoded data removed]",
            "text/plain": [
              "<Figure size 576x432 with 1 Axes>"
            ]
          },
          "metadata": {
            "tags": []
          }
        }
      ]
    },
    {
      "cell_type": "code",
      "metadata": {
        "colab": {
          "base_uri": "https://localhost:8080/",
          "height": 808
        },
        "id": "LEApNgNmeU8y",
        "outputId": "3fdab00e-0378-4f11-8cc9-c028d41d5a98"
      },
      "source": [
        "amazon_data.groupby(amazon_data.datetime.dt.year)['overall'].mean().to_frame().plot(kind=\"bar\")\n",
        "\n",
        "amazon_data['length'] = amazon_data['reviewText'].apply(len)\n",
        "amazon_data.groupby(amazon_data.datetime.dt.year)['length'].mean().to_frame().plot(kind=\"bar\")"
      ],
      "execution_count": 10,
      "outputs": [
        {
          "output_type": "execute_result",
          "data": {
            "text/plain": [
              "<matplotlib.axes._subplots.AxesSubplot at 0x7f31af4c85d0>"
            ]
          },
          "metadata": {
            "tags": []
          },
          "execution_count": 10
        },
        {
          "output_type": "display_data",
          "data": {
            "image/png": "[encoded data removed]",
            "text/plain": [
              "<Figure size 576x432 with 1 Axes>"
            ]
          },
          "metadata": {
            "tags": [],
            "needs_background": "light"
          }
        },
        {
          "output_type": "display_data",
          "data": {
            "image/png": "[encoded data removed]",
            "text/plain": [
              "<Figure size 576x432 with 1 Axes>"
            ]
          },
          "metadata": {
            "tags": [],
            "needs_background": "light"
          }
        }
      ]
    },
    {
      "cell_type": "markdown",
      "metadata": {
        "id": "A75iH83dfF1Z"
      },
      "source": [
        "Busqueda de las frecuencias de las palabras de forma general en todos los comentarios"
      ]
    },
    {
      "cell_type": "code",
      "metadata": {
        "id": "EKgcbrZFeg8h"
      },
      "source": [
        "from sklearn.feature_extraction.text import CountVectorizer\n",
        "from datetime import datetime\n",
        "\n",
        "amazon_data = amazon_data.head(len(amazon_data))\n",
        "\n",
        "def get_top_n_words(corpus, n=1, k=1):\n",
        "    t1 = datetime.now()\n",
        "    vec = CountVectorizer(ngram_range=(k, k), stop_words=\"english\")\n",
        "    bag_of_words = vec.fit_transform(corpus)\n",
        "    sum_words = bag_of_words.sum(axis=0) \n",
        "    words_freq = [(word, sum_words[0, idx]) for word, idx in vec.vocabulary_.items()]\n",
        "    words_freq = sorted(words_freq, key=lambda x: x[1], reverse=True)\n",
        "    return words_freq[:n]"
      ],
      "execution_count": 11,
      "outputs": []
    },
    {
      "cell_type": "code",
      "metadata": {
        "colab": {
          "base_uri": "https://localhost:8080/",
          "height": 810
        },
        "id": "C5Cwrq3qe8zB",
        "outputId": "8d45ea75-bf1e-4125-c3b4-ac0a17a148dc"
      },
      "source": [
        "%%time\n",
        "# All reviews\n",
        "common_words = get_top_n_words(amazon_data[\"reviewText\"], 20, 1)\n",
        "for word, freq in common_words:\n",
        "    print(word, freq)\n",
        "    \n",
        "tabla = pd.DataFrame(common_words, columns=[\"words\", \"count\"])\n",
        "tabla.groupby(\"words\").sum()[\"count\"].sort_values(ascending=False).plot(\n",
        "    kind=\"bar\", title=\"Top 20 de las palabras más frecuentes\"\n",
        ")"
      ],
      "execution_count": 12,
      "outputs": [
        {
          "output_type": "stream",
          "text": [
            "movie 668579\n",
            "film 584448\n",
            "like 259424\n",
            "great 237119\n",
            "good 236797\n",
            "just 220199\n",
            "quot 204832\n",
            "time 203972\n",
            "story 186832\n",
            "dvd 151290\n",
            "really 146130\n",
            "love 145152\n",
            "best 139589\n",
            "movies 129321\n",
            "watch 115320\n",
            "films 112109\n",
            "way 109195\n",
            "don 105552\n",
            "people 105214\n",
            "life 100565\n",
            "CPU times: user 1min 3s, sys: 690 ms, total: 1min 4s\n",
            "Wall time: 1min 4s\n"
          ],
          "name": "stdout"
        },
        {
          "output_type": "display_data",
          "data": {
            "image/png": "[encoded data removed]",
            "text/plain": [
              "<Figure size 576x432 with 1 Axes>"
            ]
          },
          "metadata": {
            "tags": [],
            "needs_background": "light"
          }
        }
      ]
    },
    {
      "cell_type": "markdown",
      "metadata": {
        "id": "7-hErN_c9fWs"
      },
      "source": [
        "## **Preparación y procesamiento de la información para modelamiento y clasificación de sentimientos**"
      ]
    },
    {
      "cell_type": "markdown",
      "metadata": {
        "id": "0RC6rlUpMcXz"
      },
      "source": [
        "A continuación, se reprocesa la variable de calificaciones "
      ]
    },
    {
      "cell_type": "code",
      "metadata": {
        "colab": {
          "base_uri": "https://localhost:8080/"
        },
        "id": "VuxwxKCLdZO0",
        "outputId": "5ce06bb1-0bba-47d0-8911-2effa24bdce3"
      },
      "source": [
        "amazon_data['target_cat'] = pd.Categorical(amazon_data['overall'])\n",
        "amazon_data.dtypes"
      ],
      "execution_count": 13,
      "outputs": [
        {
          "output_type": "execute_result",
          "data": {
            "text/plain": [
              "reviewerName              object\n",
              "helpful                   object\n",
              "reviewText                object\n",
              "overall                    int64\n",
              "summary                   object\n",
              "unixReviewTime             int64\n",
              "datetime          datetime64[ns]\n",
              "length                     int64\n",
              "target_cat              category\n",
              "dtype: object"
            ]
          },
          "metadata": {
            "tags": []
          },
          "execution_count": 13
        }
      ]
    },
    {
      "cell_type": "code",
      "metadata": {
        "colab": {
          "base_uri": "https://localhost:8080/"
        },
        "id": "TLFmEFf-Agbu",
        "outputId": "f688399e-6f6f-4ceb-e2ba-0a77984b2486"
      },
      "source": [
        "print(amazon_data['target_cat'].value_counts())"
      ],
      "execution_count": 14,
      "outputs": [
        {
          "output_type": "stream",
          "text": [
            "5    312586\n",
            "4    118506\n",
            "3     55067\n",
            "2     25610\n",
            "1     25357\n",
            "Name: target_cat, dtype: int64\n"
          ],
          "name": "stdout"
        }
      ]
    },
    {
      "cell_type": "markdown",
      "metadata": {
        "id": "O6wjCRQzM4lr"
      },
      "source": [
        "## **Proceso de balanceo de las categorías de estudio**"
      ]
    },
    {
      "cell_type": "code",
      "metadata": {
        "colab": {
          "base_uri": "https://localhost:8080/"
        },
        "id": "gnnoSZqavgjG",
        "outputId": "0c834ffd-a0eb-46ce-d7b9-234a35e04ad7"
      },
      "source": [
        "amazon_data_1 = amazon_data[amazon_data['overall']== 1]\n",
        "amazon_data_2 = amazon_data[amazon_data['overall']== 2 ].sample(len(amazon_data_1))\n",
        "amazon_data_3 = amazon_data[amazon_data['overall']==3].sample(len(amazon_data_1))\n",
        "amazon_data_4 = amazon_data[amazon_data['overall']==4].sample(len(amazon_data_1))\n",
        "amazon_data_5 = amazon_data[amazon_data['overall']==5].sample(len(amazon_data_1))\n",
        "\n",
        "## El balanceo de los datos fue definido en función del tamaño de la menor categoría encontrada\n",
        "print(amazon_data_1.shape)\n",
        "print(amazon_data_2.shape)\n",
        "print(amazon_data_3.shape)\n",
        "print(amazon_data_4.shape)\n",
        "print(amazon_data_5.shape)"
      ],
      "execution_count": 15,
      "outputs": [
        {
          "output_type": "stream",
          "text": [
            "(25357, 9)\n",
            "(25357, 9)\n",
            "(25357, 9)\n",
            "(25357, 9)\n",
            "(25357, 9)\n"
          ],
          "name": "stdout"
        }
      ]
    },
    {
      "cell_type": "code",
      "metadata": {
        "colab": {
          "base_uri": "https://localhost:8080/"
        },
        "id": "81EK76WpzuW5",
        "outputId": "78cb9bde-5d7d-49a4-9cf1-76cfa2d3dfb7"
      },
      "source": [
        "amazon_data_12 = amazon_data_1.append(amazon_data_2)\n",
        "amazon_data_123 =amazon_data_12.append(amazon_data_3)\n",
        "amazon_data_1234 = amazon_data_123.append(amazon_data_4)\n",
        "amazon_data_bal = amazon_data_1234.append(amazon_data_5)\n",
        "\n",
        "amazon_data_bal[\"index\"] = range(0,len(amazon_data_bal))\n",
        "\n",
        "amazon_data_bal.shape"
      ],
      "execution_count": 16,
      "outputs": [
        {
          "output_type": "execute_result",
          "data": {
            "text/plain": [
              "(126785, 10)"
            ]
          },
          "metadata": {
            "tags": []
          },
          "execution_count": 16
        }
      ]
    },
    {
      "cell_type": "markdown",
      "metadata": {
        "id": "g40KoI5iNI-i"
      },
      "source": [
        "## **Ajuste de las calificaciones en sentimientos positivos y negativos**"
      ]
    },
    {
      "cell_type": "code",
      "metadata": {
        "id": "unq-3YHj8LTg"
      },
      "source": [
        "amazon_data_bal['target'] = np.where(amazon_data_bal.overall < 3, '0', \n",
        "                       np.where(amazon_data_bal.overall > 3, '1', '3'))\n",
        "\n",
        "amazon_data_bal = amazon_data_bal[(amazon_data_bal[\"target\"])!= \"3\"]"
      ],
      "execution_count": 17,
      "outputs": []
    },
    {
      "cell_type": "code",
      "metadata": {
        "colab": {
          "base_uri": "https://localhost:8080/",
          "height": 628
        },
        "id": "dk4bAyZC2Ny5",
        "outputId": "8d8fed89-8a73-4481-a48d-b109afa2b896"
      },
      "source": [
        "print(amazon_data_bal['target'].value_counts())\n",
        "amazon_data_bal.set_index(\"index\", inplace=True)\n",
        "amazon_data_bal.head()"
      ],
      "execution_count": 18,
      "outputs": [
        {
          "output_type": "stream",
          "text": [
            "1    50714\n",
            "0    50714\n",
            "Name: target, dtype: int64\n"
          ],
          "name": "stdout"
        },
        {
          "output_type": "execute_result",
          "data": {
            "text/html": [
              "<div>\n",
              "<style scoped>\n",
              "    .dataframe tbody tr th:only-of-type {\n",
              "        vertical-align: middle;\n",
              "    }\n",
              "\n",
              "    .dataframe tbody tr th {\n",
              "        vertical-align: top;\n",
              "    }\n",
              "\n",
              "    .dataframe thead th {\n",
              "        text-align: right;\n",
              "    }\n",
              "</style>\n",
              "<table border=\"1\" class=\"dataframe\">\n",
              "  <thead>\n",
              "    <tr style=\"text-align: right;\">\n",
              "      <th></th>\n",
              "      <th>reviewerName</th>\n",
              "      <th>helpful</th>\n",
              "      <th>reviewText</th>\n",
              "      <th>overall</th>\n",
              "      <th>summary</th>\n",
              "      <th>unixReviewTime</th>\n",
              "      <th>datetime</th>\n",
              "      <th>length</th>\n",
              "      <th>target_cat</th>\n",
              "      <th>target</th>\n",
              "    </tr>\n",
              "    <tr>\n",
              "      <th>index</th>\n",
              "      <th></th>\n",
              "      <th></th>\n",
              "      <th></th>\n",
              "      <th></th>\n",
              "      <th></th>\n",
              "      <th></th>\n",
              "      <th></th>\n",
              "      <th></th>\n",
              "      <th></th>\n",
              "      <th></th>\n",
              "    </tr>\n",
              "  </thead>\n",
              "  <tbody>\n",
              "    <tr>\n",
              "      <th>0</th>\n",
              "      <td>sharp eye klf \"klf\"</td>\n",
              "      <td>[13, 23]</td>\n",
              "      <td>The acting was good, the story was correct, bu...</td>\n",
              "      <td>1</td>\n",
              "      <td>Nakedness not necessary!</td>\n",
              "      <td>1298851200</td>\n",
              "      <td>2011-02-28</td>\n",
              "      <td>337</td>\n",
              "      <td>1</td>\n",
              "      <td>0</td>\n",
              "    </tr>\n",
              "    <tr>\n",
              "      <th>1</th>\n",
              "      <td>L Salisbury</td>\n",
              "      <td>[3, 5]</td>\n",
              "      <td>This is so lame! The songs are terrible! The v...</td>\n",
              "      <td>1</td>\n",
              "      <td>Worst Christmas special ever!</td>\n",
              "      <td>976233600</td>\n",
              "      <td>2000-12-08</td>\n",
              "      <td>295</td>\n",
              "      <td>1</td>\n",
              "      <td>0</td>\n",
              "    </tr>\n",
              "    <tr>\n",
              "      <th>2</th>\n",
              "      <td>Mrs Pink</td>\n",
              "      <td>[3, 5]</td>\n",
              "      <td>This is with out a doubt is one of the worst C...</td>\n",
              "      <td>1</td>\n",
              "      <td>Frosty returns</td>\n",
              "      <td>975888000</td>\n",
              "      <td>2000-12-04</td>\n",
              "      <td>564</td>\n",
              "      <td>1</td>\n",
              "      <td>0</td>\n",
              "    </tr>\n",
              "    <tr>\n",
              "      <th>3</th>\n",
              "      <td>Philip D. Parshall</td>\n",
              "      <td>[2, 3]</td>\n",
              "      <td>Narration is OK but the story is weak and the ...</td>\n",
              "      <td>1</td>\n",
              "      <td>1960's Classic Comes To This?</td>\n",
              "      <td>1196553600</td>\n",
              "      <td>2007-12-02</td>\n",
              "      <td>508</td>\n",
              "      <td>1</td>\n",
              "      <td>0</td>\n",
              "    </tr>\n",
              "    <tr>\n",
              "      <th>4</th>\n",
              "      <td>L. M Young</td>\n",
              "      <td>[35, 40]</td>\n",
              "      <td>If you love the Rankin-Bass version of this cl...</td>\n",
              "      <td>1</td>\n",
              "      <td>Not The Aaron I Remember</td>\n",
              "      <td>1097366400</td>\n",
              "      <td>2004-10-10</td>\n",
              "      <td>1557</td>\n",
              "      <td>1</td>\n",
              "      <td>0</td>\n",
              "    </tr>\n",
              "  </tbody>\n",
              "</table>\n",
              "</div>"
            ],
            "text/plain": [
              "              reviewerName   helpful  ... target_cat  target\n",
              "index                                 ...                   \n",
              "0      sharp eye klf \"klf\"  [13, 23]  ...          1       0\n",
              "1              L Salisbury    [3, 5]  ...          1       0\n",
              "2                 Mrs Pink    [3, 5]  ...          1       0\n",
              "3       Philip D. Parshall    [2, 3]  ...          1       0\n",
              "4               L. M Young  [35, 40]  ...          1       0\n",
              "\n",
              "[5 rows x 10 columns]"
            ]
          },
          "metadata": {
            "tags": []
          },
          "execution_count": 18
        }
      ]
    },
    {
      "cell_type": "code",
      "metadata": {
        "colab": {
          "base_uri": "https://localhost:8080/"
        },
        "id": "50XpCjW1BHZD",
        "outputId": "5d652972-1a66-4a2e-cf42-06a2a64700cf"
      },
      "source": [
        "## Categorización de la variable target compuesta por 0 y 1\n",
        "amazon_data_label = amazon_data_bal.target.factorize()\n",
        "print(amazon_data_label)"
      ],
      "execution_count": 19,
      "outputs": [
        {
          "output_type": "stream",
          "text": [
            "(array([0, 0, 0, ..., 1, 1, 1]), Index(['0', '1'], dtype='object'))\n"
          ],
          "name": "stdout"
        }
      ]
    },
    {
      "cell_type": "markdown",
      "metadata": {
        "id": "gLMZw8UHBOqr"
      },
      "source": [
        "## **Depuración de los textos**"
      ]
    },
    {
      "cell_type": "code",
      "metadata": {
        "colab": {
          "base_uri": "https://localhost:8080/",
          "height": 121
        },
        "id": "lXHkT_V2BSEj",
        "outputId": "b7d83635-7a16-428f-cf24-1377778e68a5"
      },
      "source": [
        "## Ejemplo de como viene el texto que se requiere analizar\n",
        "amazon_data_bal['reviewText'][2]"
      ],
      "execution_count": 20,
      "outputs": [
        {
          "output_type": "execute_result",
          "data": {
            "application/vnd.google.colaboratory.intrinsic+json": {
              "type": "string"
            },
            "text/plain": [
              "\"This is with out a doubt is one of the worst Christmas movies I have ever seen!  My daughter liked it because it had a snowman in it, but that's the only reason.  The movie is filled with overdone, unrealistic, trite political issues of the 90's.  It was too complicated for a small child to follow and there was barely even a plot.  Only get this if your child is in love with snowmen and you've exhausted all other viewing avenues.  There was nothing original in this movie that wasn't absurd.  The original Frosty is so wonderfully simple, buy that one instead.\""
            ]
          },
          "metadata": {
            "tags": []
          },
          "execution_count": 20
        }
      ]
    },
    {
      "cell_type": "markdown",
      "metadata": {
        "id": "ejLw4dGvjH5V"
      },
      "source": [
        "## **Función de depuración de los textos**"
      ]
    },
    {
      "cell_type": "code",
      "metadata": {
        "id": "hD9gbEDiBVFT"
      },
      "source": [
        "def preprocess_text(sen):\n",
        "    # Removing html tags\n",
        "    sentence = remove_tags(sen)\n",
        "\n",
        "    # digitos\n",
        "    sentence = re.sub('\\d+', ' ', sentence)\n",
        "\n",
        "    # paréntesis\n",
        "    sentence = re.sub('[()]', ' ', sentence)\n",
        "\n",
        "    # Remove punctuations and numbers\n",
        "    sentence = re.sub('[^a-zA-Z]', ' ', sentence)\n",
        "\n",
        "    # Single character removal\n",
        "    sentence = re.sub(r\"\\s+[a-zA-Z]\\s+\", ' ', sentence)\n",
        "\n",
        "    # Removing multiple spaces\n",
        "    sentence = re.sub(r'\\s+', ' ', sentence)\n",
        "\n",
        "    # This removes words of up to 3 characters \n",
        "    #sentence = re.sub(r'\\b\\w{1,3}\\b', '',sentence)\n",
        "\n",
        "    return sentence"
      ],
      "execution_count": 21,
      "outputs": []
    },
    {
      "cell_type": "code",
      "metadata": {
        "id": "uhdZV7AsBYKz"
      },
      "source": [
        "TAG_RE = re.compile(r'<[^>]+>')\n",
        "\n",
        "def remove_tags(text):\n",
        "    return TAG_RE.sub('', text)"
      ],
      "execution_count": 22,
      "outputs": []
    },
    {
      "cell_type": "markdown",
      "metadata": {
        "id": "pZWEqyNDjOhC"
      },
      "source": [
        "A continuación se aplica la función de depuración para los textos en general de la base de datos de interés, es necesario precisar que se esta trabajando sobre el conjunto de datos balanceado de amazon"
      ]
    },
    {
      "cell_type": "code",
      "metadata": {
        "colab": {
          "base_uri": "https://localhost:8080/"
        },
        "id": "zkWX2FqGBhsi",
        "outputId": "5e3895ab-b9ad-442b-e68c-7ede60a6d123"
      },
      "source": [
        "%%time\n",
        "X = [] ## Nueva lista en donde se almacenara la información reprocesada\n",
        "sentences = list(amazon_data_bal['reviewText'])\n",
        "for sen in sentences:\n",
        "    X.append(preprocess_text(sen))"
      ],
      "execution_count": 23,
      "outputs": [
        {
          "output_type": "stream",
          "text": [
            "CPU times: user 15.9 s, sys: 23 ms, total: 15.9 s\n",
            "Wall time: 15.9 s\n"
          ],
          "name": "stdout"
        }
      ]
    },
    {
      "cell_type": "code",
      "metadata": {
        "colab": {
          "base_uri": "https://localhost:8080/",
          "height": 121
        },
        "id": "RvfPiib6Bm9z",
        "outputId": "232b6811-24dc-41c4-bd70-99f6963ab8a0"
      },
      "source": [
        "X[2]"
      ],
      "execution_count": 24,
      "outputs": [
        {
          "output_type": "execute_result",
          "data": {
            "application/vnd.google.colaboratory.intrinsic+json": {
              "type": "string"
            },
            "text/plain": [
              "'This is with out doubt is one of the worst Christmas movies have ever seen My daughter liked it because it had snowman in it but that the only reason The movie is filled with overdone unrealistic trite political issues of the It was too complicated for small child to follow and there was barely even plot Only get this if your child is in love with snowmen and you ve exhausted all other viewing avenues There was nothing original in this movie that wasn absurd The original Frosty is so wonderfully simple buy that one instead '"
            ]
          },
          "metadata": {
            "tags": []
          },
          "execution_count": 24
        }
      ]
    },
    {
      "cell_type": "markdown",
      "metadata": {
        "id": "9OUtKtHZDEMT"
      },
      "source": [
        "## **Preparación de los datos para entrenar el modelo**"
      ]
    },
    {
      "cell_type": "code",
      "metadata": {
        "id": "da76tWu3Cn0k"
      },
      "source": [
        "X_train, X_test, y_train, y_test = train_test_split(X, amazon_data_label[0], test_size=0.30, random_state=2906)"
      ],
      "execution_count": 25,
      "outputs": []
    },
    {
      "cell_type": "code",
      "metadata": {
        "id": "eXX6wnUxDOXt"
      },
      "source": [
        "pr = 128 \n",
        "a = (len(X_train)/pr) \n",
        "ntrain = round(pr*(a-1)) \n",
        "\n",
        "b = (len(X_test)/pr) \n",
        "ntest = round(pr*(b-1)) "
      ],
      "execution_count": 26,
      "outputs": []
    },
    {
      "cell_type": "code",
      "metadata": {
        "id": "FTa0gkVIEYV0"
      },
      "source": [
        "X_train = X_train[0:ntrain] \n",
        "X_test = X_test[0:ntest] \n",
        "y_train = y_train[0:ntrain] \n",
        "y_test = y_test[0:ntest]"
      ],
      "execution_count": 27,
      "outputs": []
    },
    {
      "cell_type": "code",
      "metadata": {
        "colab": {
          "base_uri": "https://localhost:8080/"
        },
        "id": "WIrjhUdmEnos",
        "outputId": "60db2c13-6502-49a4-d920-ab04b4f211be"
      },
      "source": [
        "%%time\n",
        "tokenizer = Tokenizer(num_words=40000)\n",
        "tokenizer.fit_on_texts(X_train)\n",
        "#tokenizer.fit_on_texts(X_test)\n",
        "X_train = tokenizer.texts_to_sequences(X_train)\n",
        "X_test = tokenizer.texts_to_sequences(X_test)"
      ],
      "execution_count": 28,
      "outputs": [
        {
          "output_type": "stream",
          "text": [
            "CPU times: user 21.1 s, sys: 372 ms, total: 21.5 s\n",
            "Wall time: 21.5 s\n"
          ],
          "name": "stdout"
        }
      ]
    },
    {
      "cell_type": "code",
      "metadata": {
        "colab": {
          "base_uri": "https://localhost:8080/"
        },
        "id": "OUFOmT2yMXK7",
        "outputId": "d6b0c585-b3a4-47bd-8d28-c6a387fa7c46"
      },
      "source": [
        "print(X_train[1])"
      ],
      "execution_count": 29,
      "outputs": [
        {
          "output_type": "stream",
          "text": [
            "[8, 136, 3, 1168, 347, 27, 1282, 5, 23, 3, 50, 1793, 2984, 85, 3, 1, 17986, 2, 4107, 240, 27, 886, 6958, 12, 1, 11450, 1463, 6958, 63, 2506, 7, 1, 1846, 362, 3, 1168, 2, 14230, 22, 215, 7, 8, 16, 136, 7815, 69, 34051, 8, 362, 10, 19, 114, 2427, 4, 5179, 139, 35, 21, 106, 1197, 7, 134, 7, 8, 16, 136, 10, 564, 1, 578, 3, 7341, 5346, 2775, 2, 2224, 2366, 18373, 21, 12021, 120, 2, 7341, 5, 1, 73, 4, 719, 1650, 4, 1, 1463, 4400, 7394, 1, 13, 661, 14, 883, 6433, 78, 1, 14447, 28, 1, 13532, 461, 3, 7, 1569, 118, 611, 21628, 231, 27, 2052, 6332, 2, 33, 80, 261, 2224, 369, 1143, 22, 5443, 10, 1, 3622, 2165, 1168, 758, 4, 25, 1, 60, 3826, 3, 1, 20973, 2, 2808, 9803, 5829, 2407, 43, 349, 3, 1168, 16422, 12202, 1588, 16754, 1168, 16422, 4, 28532, 5596, 118, 1168, 5, 3896, 7341, 1542, 12754, 27, 1168, 1597, 2, 42, 369, 611, 6470, 936, 5919, 2269, 4076, 3107, 10340, 42, 332, 17540, 1, 390, 974, 3, 1, 1463, 7, 1, 1530, 392, 8, 13, 1139, 3, 1168, 10, 1, 8653, 1183, 5135, 207, 6958, 2, 18373, 2224, 250, 8, 23, 1, 83, 17986, 2, 726, 4017, 3, 1168, 6958, 2, 3107, 80, 77, 57, 285, 7, 62, 5569, 578, 6958, 1168, 199, 25, 1371, 2, 17986, 15, 23, 108, 8172, 9, 8, 5, 1056, 10, 4400, 637, 3107, 261, 1, 6471, 2992, 369, 52, 10918, 156, 6, 22, 240, 12, 1, 6577, 24906, 3, 894, 7, 17540, 1, 778, 3, 22, 520, 332, 9, 1389, 40, 1, 1105, 2, 315, 3, 3523, 192, 2, 696, 13984, 1, 423, 13, 31, 1, 8293, 787, 6, 5, 4, 151, 30, 3363, 12, 4, 11045, 6, 234, 2176, 362, 4, 1, 1944, 491, 27, 211, 1133, 1, 344, 586, 1129, 2, 5114, 824, 37, 7927, 27, 1035, 605, 453, 4187, 8, 12, 50, 336, 136, 3, 1168, 3, 26, 53, 156, 159, 30, 14448, 256, 3, 1232, 541, 2, 22, 5321, 7, 1, 215, 3, 936, 5919, 1, 57, 614, 4689, 6958, 1059, 3, 1168, 5, 23, 3, 50, 1793, 92, 1, 2050, 3321, 2544, 449, 8110, 199, 25, 17541, 27, 7815, 15, 37, 18, 148, 1, 276, 9, 34052, 51, 1105, 7, 116, 192, 84, 18, 199, 65, 34, 8, 136]\n"
          ],
          "name": "stdout"
        }
      ]
    },
    {
      "cell_type": "code",
      "metadata": {
        "id": "Uy54Xf5mErkz"
      },
      "source": [
        "# Adding 1 because of reserved 0 index\n",
        "vocab_size = len(tokenizer.word_index) + 1\n",
        "\n",
        "maxlen = 500\n",
        "\n",
        "X_train = pad_sequences(X_train, padding='post', maxlen=maxlen)\n",
        "X_test = pad_sequences(X_test, padding='post', maxlen=maxlen)"
      ],
      "execution_count": 30,
      "outputs": []
    },
    {
      "cell_type": "code",
      "metadata": {
        "colab": {
          "base_uri": "https://localhost:8080/"
        },
        "id": "e0k7X7EeM2sv",
        "outputId": "86a16922-b640-4674-8399-fa726548b2ac"
      },
      "source": [
        "print(\"Tamaño del vocabulario: \"+ str(len(tokenizer.word_index)))\n",
        "print(X_train[0])"
      ],
      "execution_count": 31,
      "outputs": [
        {
          "output_type": "stream",
          "text": [
            "Tamaño del vocabulario: 121217\n",
            "[    8   373     5    41     2   375  4306   615     1   531     3     1\n",
            "    16     4   311   268     2   112    19  1517     1   443  4218     3\n",
            "     1   134    39    50  4288    17     1    13   237   133    39   718\n",
            "   273   288    17 16421 12020     2    30 21626   311   268   900    77\n",
            "    19   111     9     8    16    38    76  1879     7   104    94     6\n",
            "     5  1495     9   181    67  5086    17   311   268    59    90    23\n",
            "    15   483     3  8651   112    24    97     7     1   810     3   380\n",
            " 28530  2604   236    97    60   258   200     1   443  2501     2   432\n",
            "   127     2  8429    97    12    64     1 21627     5    19   469    15\n",
            "    19    57   350     1    16    38  2314  2260  1176    14    40     3\n",
            "   439  1297     6    19     9    18    81    72   329     4   337    43\n",
            "   116   147    15     8    16    11   260     4   311   268    31    30\n",
            "   140   411   537     2    11    19  5031    51    28    26   837  4151\n",
            "    21    19   837     2     1  2632   787 19277     5   195  4741   471\n",
            "     1  1120   630    34     1    16    15     8   531   161   385     6\n",
            "   941   484     6   870    28 11167   212    10     1   273   603    18\n",
            "   624     1   603    17    16    41   596  5409    55    25  1079    15\n",
            "     6   225   126     1 10917  1986   280  1345   630  2185  1407     2\n",
            "  8430   365    29   102    24   222    32    70    48    10   144    33\n",
            "   325  1669    21    36  1067    10    16    34     8    47    44 11168\n",
            "    31     2   664     1  1056     2  3814  5663    15    54   118   694\n",
            "    43     1   175     7     1    16 15522   126   107    68     1   273\n",
            " 21627  1255    10    71     7     1  2473   127     3    43   143    24\n",
            "    76    70 13150    31     1  8652  1076   142    10     1 28531  2003\n",
            "   223    47   383    15     5    19  2034   694    12   837    12     6\n",
            "   143    25    10   144    33    24   130    76   200  1299   899   212\n",
            "    17     1    35    21   628    19    59   515    29    77  1096     1\n",
            "    13   950    15  1238   682     9    30   841    26    50   428  1176\n",
            "  4306   615     1   237     3     1   531     4   311   268     2    77\n",
            "   511     9     8   373    38    76     3    47   361     4    18     7\n",
            "  7340   615   116  1136  1099    10   881     0     0     0     0     0\n",
            "     0     0     0     0     0     0     0     0     0     0     0     0\n",
            "     0     0     0     0     0     0     0     0     0     0     0     0\n",
            "     0     0     0     0     0     0     0     0     0     0     0     0\n",
            "     0     0     0     0     0     0     0     0     0     0     0     0\n",
            "     0     0     0     0     0     0     0     0     0     0     0     0\n",
            "     0     0     0     0     0     0     0     0     0     0     0     0\n",
            "     0     0     0     0     0     0     0     0     0     0     0     0\n",
            "     0     0     0     0     0     0     0     0     0     0     0     0\n",
            "     0     0     0     0     0     0     0     0     0     0     0     0\n",
            "     0     0     0     0     0     0     0     0     0     0     0     0\n",
            "     0     0     0     0     0     0     0     0]\n"
          ],
          "name": "stdout"
        }
      ]
    },
    {
      "cell_type": "markdown",
      "metadata": {
        "id": "3proE6nfFd3s"
      },
      "source": [
        "### **Definición de uso de la TPU**"
      ]
    },
    {
      "cell_type": "code",
      "metadata": {
        "colab": {
          "base_uri": "https://localhost:8080/"
        },
        "id": "6SC_skjgFciz",
        "outputId": "734f396c-01d8-4cc5-d6e5-d4831a3e98f7"
      },
      "source": [
        "%tensorflow_version 2.x   # Para garantizar que la versión 2.x sea importada\n",
        "import tensorflow as tf\n",
        "print('Versión de TensorFlow: ' + tf.__version__)\n",
        "\n",
        "tf.random.set_seed(200)\n",
        "\n",
        "try:\n",
        "  tpu = tf.distribute.cluster_resolver.TPUClusterResolver(tpu='grpc://' + os.environ['COLAB_TPU_ADDR'])  # Detectar TPU\n",
        "  print('TPU encontrada ', tpu.cluster_spec().as_dict()['worker'])\n",
        "except ValueError:\n",
        "  raise BaseException('ERROR: TPU no encontrada!')\n",
        "\n",
        "tf.config.experimental_connect_to_cluster(tpu)\n",
        "tf.tpu.experimental.initialize_tpu_system(tpu)\n",
        "tpu_strategy = tf.distribute.experimental.TPUStrategy(tpu)"
      ],
      "execution_count": 32,
      "outputs": [
        {
          "output_type": "stream",
          "text": [
            "`%tensorflow_version` only switches the major version: 1.x or 2.x.\n",
            "You set: `2.x   # Para garantizar que la versión 2.x sea importada`. This will be interpreted as: `2.x`.\n",
            "\n",
            "\n",
            "TensorFlow is already loaded. Please restart the runtime to change versions.\n",
            "Versión de TensorFlow: 2.4.1\n",
            "TPU encontrada  ['10.29.204.10:8470']\n",
            "INFO:tensorflow:Initializing the TPU system: grpc://10.29.204.10:8470\n"
          ],
          "name": "stdout"
        },
        {
          "output_type": "stream",
          "text": [
            "INFO:tensorflow:Initializing the TPU system: grpc://10.29.204.10:8470\n"
          ],
          "name": "stderr"
        },
        {
          "output_type": "stream",
          "text": [
            "INFO:tensorflow:Clearing out eager caches\n"
          ],
          "name": "stdout"
        },
        {
          "output_type": "stream",
          "text": [
            "INFO:tensorflow:Clearing out eager caches\n"
          ],
          "name": "stderr"
        },
        {
          "output_type": "stream",
          "text": [
            "INFO:tensorflow:Finished initializing TPU system.\n"
          ],
          "name": "stdout"
        },
        {
          "output_type": "stream",
          "text": [
            "INFO:tensorflow:Finished initializing TPU system.\n",
            "WARNING:absl:`tf.distribute.experimental.TPUStrategy` is deprecated, please use  the non experimental symbol `tf.distribute.TPUStrategy` instead.\n"
          ],
          "name": "stderr"
        },
        {
          "output_type": "stream",
          "text": [
            "INFO:tensorflow:Found TPU system:\n"
          ],
          "name": "stdout"
        },
        {
          "output_type": "stream",
          "text": [
            "INFO:tensorflow:Found TPU system:\n"
          ],
          "name": "stderr"
        },
        {
          "output_type": "stream",
          "text": [
            "INFO:tensorflow:*** Num TPU Cores: 8\n"
          ],
          "name": "stdout"
        },
        {
          "output_type": "stream",
          "text": [
            "INFO:tensorflow:*** Num TPU Cores: 8\n"
          ],
          "name": "stderr"
        },
        {
          "output_type": "stream",
          "text": [
            "INFO:tensorflow:*** Num TPU Workers: 1\n"
          ],
          "name": "stdout"
        },
        {
          "output_type": "stream",
          "text": [
            "INFO:tensorflow:*** Num TPU Workers: 1\n"
          ],
          "name": "stderr"
        },
        {
          "output_type": "stream",
          "text": [
            "INFO:tensorflow:*** Num TPU Cores Per Worker: 8\n"
          ],
          "name": "stdout"
        },
        {
          "output_type": "stream",
          "text": [
            "INFO:tensorflow:*** Num TPU Cores Per Worker: 8\n"
          ],
          "name": "stderr"
        },
        {
          "output_type": "stream",
          "text": [
            "INFO:tensorflow:*** Available Device: _DeviceAttributes(/job:localhost/replica:0/task:0/device:CPU:0, CPU, 0, 0)\n"
          ],
          "name": "stdout"
        },
        {
          "output_type": "stream",
          "text": [
            "INFO:tensorflow:*** Available Device: _DeviceAttributes(/job:localhost/replica:0/task:0/device:CPU:0, CPU, 0, 0)\n"
          ],
          "name": "stderr"
        },
        {
          "output_type": "stream",
          "text": [
            "INFO:tensorflow:*** Available Device: _DeviceAttributes(/job:worker/replica:0/task:0/device:CPU:0, CPU, 0, 0)\n"
          ],
          "name": "stdout"
        },
        {
          "output_type": "stream",
          "text": [
            "INFO:tensorflow:*** Available Device: _DeviceAttributes(/job:worker/replica:0/task:0/device:CPU:0, CPU, 0, 0)\n"
          ],
          "name": "stderr"
        },
        {
          "output_type": "stream",
          "text": [
            "INFO:tensorflow:*** Available Device: _DeviceAttributes(/job:worker/replica:0/task:0/device:TPU:0, TPU, 0, 0)\n"
          ],
          "name": "stdout"
        },
        {
          "output_type": "stream",
          "text": [
            "INFO:tensorflow:*** Available Device: _DeviceAttributes(/job:worker/replica:0/task:0/device:TPU:0, TPU, 0, 0)\n"
          ],
          "name": "stderr"
        },
        {
          "output_type": "stream",
          "text": [
            "INFO:tensorflow:*** Available Device: _DeviceAttributes(/job:worker/replica:0/task:0/device:TPU:1, TPU, 0, 0)\n"
          ],
          "name": "stdout"
        },
        {
          "output_type": "stream",
          "text": [
            "INFO:tensorflow:*** Available Device: _DeviceAttributes(/job:worker/replica:0/task:0/device:TPU:1, TPU, 0, 0)\n"
          ],
          "name": "stderr"
        },
        {
          "output_type": "stream",
          "text": [
            "INFO:tensorflow:*** Available Device: _DeviceAttributes(/job:worker/replica:0/task:0/device:TPU:2, TPU, 0, 0)\n"
          ],
          "name": "stdout"
        },
        {
          "output_type": "stream",
          "text": [
            "INFO:tensorflow:*** Available Device: _DeviceAttributes(/job:worker/replica:0/task:0/device:TPU:2, TPU, 0, 0)\n"
          ],
          "name": "stderr"
        },
        {
          "output_type": "stream",
          "text": [
            "INFO:tensorflow:*** Available Device: _DeviceAttributes(/job:worker/replica:0/task:0/device:TPU:3, TPU, 0, 0)\n"
          ],
          "name": "stdout"
        },
        {
          "output_type": "stream",
          "text": [
            "INFO:tensorflow:*** Available Device: _DeviceAttributes(/job:worker/replica:0/task:0/device:TPU:3, TPU, 0, 0)\n"
          ],
          "name": "stderr"
        },
        {
          "output_type": "stream",
          "text": [
            "INFO:tensorflow:*** Available Device: _DeviceAttributes(/job:worker/replica:0/task:0/device:TPU:4, TPU, 0, 0)\n"
          ],
          "name": "stdout"
        },
        {
          "output_type": "stream",
          "text": [
            "INFO:tensorflow:*** Available Device: _DeviceAttributes(/job:worker/replica:0/task:0/device:TPU:4, TPU, 0, 0)\n"
          ],
          "name": "stderr"
        },
        {
          "output_type": "stream",
          "text": [
            "INFO:tensorflow:*** Available Device: _DeviceAttributes(/job:worker/replica:0/task:0/device:TPU:5, TPU, 0, 0)\n"
          ],
          "name": "stdout"
        },
        {
          "output_type": "stream",
          "text": [
            "INFO:tensorflow:*** Available Device: _DeviceAttributes(/job:worker/replica:0/task:0/device:TPU:5, TPU, 0, 0)\n"
          ],
          "name": "stderr"
        },
        {
          "output_type": "stream",
          "text": [
            "INFO:tensorflow:*** Available Device: _DeviceAttributes(/job:worker/replica:0/task:0/device:TPU:6, TPU, 0, 0)\n"
          ],
          "name": "stdout"
        },
        {
          "output_type": "stream",
          "text": [
            "INFO:tensorflow:*** Available Device: _DeviceAttributes(/job:worker/replica:0/task:0/device:TPU:6, TPU, 0, 0)\n"
          ],
          "name": "stderr"
        },
        {
          "output_type": "stream",
          "text": [
            "INFO:tensorflow:*** Available Device: _DeviceAttributes(/job:worker/replica:0/task:0/device:TPU:7, TPU, 0, 0)\n"
          ],
          "name": "stdout"
        },
        {
          "output_type": "stream",
          "text": [
            "INFO:tensorflow:*** Available Device: _DeviceAttributes(/job:worker/replica:0/task:0/device:TPU:7, TPU, 0, 0)\n"
          ],
          "name": "stderr"
        },
        {
          "output_type": "stream",
          "text": [
            "INFO:tensorflow:*** Available Device: _DeviceAttributes(/job:worker/replica:0/task:0/device:TPU_SYSTEM:0, TPU_SYSTEM, 0, 0)\n"
          ],
          "name": "stdout"
        },
        {
          "output_type": "stream",
          "text": [
            "INFO:tensorflow:*** Available Device: _DeviceAttributes(/job:worker/replica:0/task:0/device:TPU_SYSTEM:0, TPU_SYSTEM, 0, 0)\n"
          ],
          "name": "stderr"
        },
        {
          "output_type": "stream",
          "text": [
            "INFO:tensorflow:*** Available Device: _DeviceAttributes(/job:worker/replica:0/task:0/device:XLA_CPU:0, XLA_CPU, 0, 0)\n"
          ],
          "name": "stdout"
        },
        {
          "output_type": "stream",
          "text": [
            "INFO:tensorflow:*** Available Device: _DeviceAttributes(/job:worker/replica:0/task:0/device:XLA_CPU:0, XLA_CPU, 0, 0)\n"
          ],
          "name": "stderr"
        }
      ]
    },
    {
      "cell_type": "markdown",
      "metadata": {
        "id": "aN8M6i0qFDdj"
      },
      "source": [
        "# **Arquitectura preliminar de la red neuronal para la clasificación de sentimientos**"
      ]
    },
    {
      "cell_type": "code",
      "metadata": {
        "id": "ZMt6PHwPH2p7"
      },
      "source": [
        "X_train = X_train.astype(np.float32)\n",
        "y_train = y_train.astype(np.float32)\n",
        "X_test = X_test.astype(np.float32)\n",
        "y_test = y_test.astype(np.float32)"
      ],
      "execution_count": 33,
      "outputs": []
    },
    {
      "cell_type": "markdown",
      "metadata": {
        "id": "cmxG1YJmhGaa"
      },
      "source": [
        "## **Modelo implementando Glove**"
      ]
    },
    {
      "cell_type": "code",
      "metadata": {
        "colab": {
          "base_uri": "https://localhost:8080/"
        },
        "id": "3Daa9oJzQgN3",
        "outputId": "0ecf3bb2-4a05-46f4-f079-f6223eb545d9"
      },
      "source": [
        "!wget http://nlp.stanford.edu/data/glove.6B.zip  \n",
        "!unzip glove.6B.zip "
      ],
      "execution_count": 34,
      "outputs": [
        {
          "output_type": "stream",
          "text": [
            "--2021-05-03 09:40:12--  http://nlp.stanford.edu/data/glove.6B.zip\n",
            "Resolving nlp.stanford.edu (nlp.stanford.edu)... 171.64.67.140\n",
            "Connecting to nlp.stanford.edu (nlp.stanford.edu)|171.64.67.140|:80... connected.\n",
            "HTTP request sent, awaiting response... 302 Found\n",
            "Location: https://nlp.stanford.edu/data/glove.6B.zip [following]\n",
            "--2021-05-03 09:40:12--  https://nlp.stanford.edu/data/glove.6B.zip\n",
            "Connecting to nlp.stanford.edu (nlp.stanford.edu)|171.64.67.140|:443... connected.\n",
            "HTTP request sent, awaiting response... 301 Moved Permanently\n",
            "Location: http://downloads.cs.stanford.edu/nlp/data/glove.6B.zip [following]\n",
            "--2021-05-03 09:40:12--  http://downloads.cs.stanford.edu/nlp/data/glove.6B.zip\n",
            "Resolving downloads.cs.stanford.edu (downloads.cs.stanford.edu)... 171.64.64.22\n",
            "Connecting to downloads.cs.stanford.edu (downloads.cs.stanford.edu)|171.64.64.22|:80... connected.\n",
            "HTTP request sent, awaiting response... 200 OK\n",
            "Length: 862182613 (822M) [application/zip]\n",
            "Saving to: ‘glove.6B.zip’\n",
            "\n",
            "glove.6B.zip        100%[===================>] 822.24M  5.06MB/s    in 2m 41s  \n",
            "\n",
            "2021-05-03 09:42:53 (5.10 MB/s) - ‘glove.6B.zip’ saved [862182613/862182613]\n",
            "\n",
            "Archive:  glove.6B.zip\n",
            "  inflating: glove.6B.50d.txt        \n",
            "  inflating: glove.6B.100d.txt       \n",
            "  inflating: glove.6B.200d.txt       \n",
            "  inflating: glove.6B.300d.txt       \n"
          ],
          "name": "stdout"
        }
      ]
    },
    {
      "cell_type": "code",
      "metadata": {
        "colab": {
          "base_uri": "https://localhost:8080/"
        },
        "id": "VL6mnm7MRlAu",
        "outputId": "427b4aaa-5ee5-465f-a1e9-3330fe5288bc"
      },
      "source": [
        "embeddings_dictionary = dict()\n",
        "with open('glove.6B.300d.txt', \"r\") as file:     \n",
        "    for line in file:         \n",
        "       tokens = line.split()      \n",
        "       word = tokens[0]         \n",
        "       vector_dimensions = np.array(tokens[1:], dtype=np.float32) \n",
        "       if vector_dimensions.shape[0] == 300:    \n",
        "           embeddings_dictionary[word] = vector_dimensions \n",
        "       else:      \n",
        "           print(\"There was an issue with \" + word) \n",
        "# let's check the vocabulary size \n",
        "print(\"Dictionary Size: \", len(embeddings_dictionary)) "
      ],
      "execution_count": 35,
      "outputs": [
        {
          "output_type": "stream",
          "text": [
            "Dictionary Size:  400000\n"
          ],
          "name": "stdout"
        }
      ]
    },
    {
      "cell_type": "code",
      "metadata": {
        "id": "YeBl1RJHXdc2"
      },
      "source": [
        "embedding_matrix = zeros((vocab_size, 300))\n",
        "for word, index in tokenizer.word_index.items():\n",
        "    embedding_vector = embeddings_dictionary.get(word)\n",
        "    if embedding_vector is not None:\n",
        "        embedding_matrix[index] = embedding_vector"
      ],
      "execution_count": 36,
      "outputs": []
    },
    {
      "cell_type": "markdown",
      "metadata": {
        "id": "HQM2yzwAOZst"
      },
      "source": [
        "## **Arquitectura de la red implementando Glove**"
      ]
    },
    {
      "cell_type": "code",
      "metadata": {
        "colab": {
          "base_uri": "https://localhost:8080/"
        },
        "id": "GytiMzD5hb0y",
        "outputId": "d177e0ec-91ef-4fd7-c367-996be16aaf50"
      },
      "source": [
        "with tpu_strategy.scope():\n",
        "  embedding_vector_length = 300\n",
        "\n",
        "  model_glove=Sequential()\n",
        "\n",
        "  embedding_layer=Embedding(vocab_size,embedding_vector_length,\n",
        "                            weights=[embedding_matrix],\n",
        "                            input_length=300,trainable=False)\n",
        "\n",
        "  model_glove.add(embedding_layer)\n",
        "  model_glove.add(SpatialDropout1D(0.5))\n",
        "  model_glove.add(LSTM(64, dropout=0.4, recurrent_dropout=0.4,return_sequences=True))\n",
        "  model_glove.add(tf.keras.layers.LSTM(128,return_sequences=True))\n",
        "  model_glove.add(Dropout(0.5))\n",
        "  model_glove.add(tf.keras.layers.LSTM(64))\n",
        "  model_glove.add(Dropout(0.5))\n",
        "  model_glove.add(tf.keras.layers.Dense(32, activation='relu'))\n",
        "\n",
        "  model_glove.add(Dense(1, activation='sigmoid'))\n",
        "\n",
        "  model_glove.compile(loss='binary_crossentropy',optimizer='adam', metrics=['accuracy'])  \n",
        "\n",
        "  print(model_glove.summary())"
      ],
      "execution_count": 45,
      "outputs": [
        {
          "output_type": "stream",
          "text": [
            "Model: \"sequential_2\"\n",
            "_________________________________________________________________\n",
            "Layer (type)                 Output Shape              Param #   \n",
            "=================================================================\n",
            "embedding_2 (Embedding)      (None, 300, 300)          36365400  \n",
            "_________________________________________________________________\n",
            "spatial_dropout1d_2 (Spatial (None, 300, 300)          0         \n",
            "_________________________________________________________________\n",
            "lstm_6 (LSTM)                (None, 300, 64)           93440     \n",
            "_________________________________________________________________\n",
            "lstm_7 (LSTM)                (None, 300, 128)          98816     \n",
            "_________________________________________________________________\n",
            "dropout_4 (Dropout)          (None, 300, 128)          0         \n",
            "_________________________________________________________________\n",
            "lstm_8 (LSTM)                (None, 64)                49408     \n",
            "_________________________________________________________________\n",
            "dropout_5 (Dropout)          (None, 64)                0         \n",
            "_________________________________________________________________\n",
            "dense_4 (Dense)              (None, 32)                2080      \n",
            "_________________________________________________________________\n",
            "dense_5 (Dense)              (None, 1)                 33        \n",
            "=================================================================\n",
            "Total params: 36,609,177\n",
            "Trainable params: 243,777\n",
            "Non-trainable params: 36,365,400\n",
            "_________________________________________________________________\n",
            "None\n"
          ],
          "name": "stdout"
        }
      ]
    },
    {
      "cell_type": "code",
      "metadata": {
        "id": "BFfnBDR4h4Gf"
      },
      "source": [
        "def entrenamiento_tpu():\n",
        "  history_glove = model_glove.fit(X_train,y_train,\n",
        "                                  validation_split=0.2, \n",
        "                                  batch_size=128, epochs=60, verbose=1)\n",
        "  \n",
        "  return history_glove"
      ],
      "execution_count": 46,
      "outputs": []
    },
    {
      "cell_type": "code",
      "metadata": {
        "colab": {
          "base_uri": "https://localhost:8080/"
        },
        "id": "50r39HpiiDRD",
        "outputId": "5d0c1f52-93da-46e8-fe75-b6bab240ffd5"
      },
      "source": [
        "history_glove = entrenamiento_tpu()"
      ],
      "execution_count": 47,
      "outputs": [
        {
          "output_type": "stream",
          "text": [
            "Epoch 1/60\n",
            "WARNING:tensorflow:Model was constructed with shape (None, 300) for input KerasTensor(type_spec=TensorSpec(shape=(None, 300), dtype=tf.float32, name='embedding_2_input'), name='embedding_2_input', description=\"created by layer 'embedding_2_input'\"), but it was called on an input with incompatible shape (None, 500).\n"
          ],
          "name": "stdout"
        },
        {
          "output_type": "stream",
          "text": [
            "WARNING:tensorflow:Model was constructed with shape (None, 300) for input KerasTensor(type_spec=TensorSpec(shape=(None, 300), dtype=tf.float32, name='embedding_2_input'), name='embedding_2_input', description=\"created by layer 'embedding_2_input'\"), but it was called on an input with incompatible shape (None, 500).\n"
          ],
          "name": "stderr"
        },
        {
          "output_type": "stream",
          "text": [
            "WARNING:tensorflow:Model was constructed with shape (None, 300) for input KerasTensor(type_spec=TensorSpec(shape=(None, 300), dtype=tf.float32, name='embedding_2_input'), name='embedding_2_input', description=\"created by layer 'embedding_2_input'\"), but it was called on an input with incompatible shape (None, 500).\n"
          ],
          "name": "stdout"
        },
        {
          "output_type": "stream",
          "text": [
            "WARNING:tensorflow:Model was constructed with shape (None, 300) for input KerasTensor(type_spec=TensorSpec(shape=(None, 300), dtype=tf.float32, name='embedding_2_input'), name='embedding_2_input', description=\"created by layer 'embedding_2_input'\"), but it was called on an input with incompatible shape (None, 500).\n"
          ],
          "name": "stderr"
        },
        {
          "output_type": "stream",
          "text": [
            "443/443 [==============================] - ETA: 0s - loss: 0.6935 - accuracy: 0.5001WARNING:tensorflow:Model was constructed with shape (None, 300) for input KerasTensor(type_spec=TensorSpec(shape=(None, 300), dtype=tf.float32, name='embedding_2_input'), name='embedding_2_input', description=\"created by layer 'embedding_2_input'\"), but it was called on an input with incompatible shape (None, 500).\n"
          ],
          "name": "stdout"
        },
        {
          "output_type": "stream",
          "text": [
            "WARNING:tensorflow:Model was constructed with shape (None, 300) for input KerasTensor(type_spec=TensorSpec(shape=(None, 300), dtype=tf.float32, name='embedding_2_input'), name='embedding_2_input', description=\"created by layer 'embedding_2_input'\"), but it was called on an input with incompatible shape (None, 500).\n"
          ],
          "name": "stderr"
        },
        {
          "output_type": "stream",
          "text": [
            "443/443 [==============================] - 48s 87ms/step - loss: 0.6935 - accuracy: 0.5001 - val_loss: 0.6924 - val_accuracy: 0.5050\n",
            "Epoch 2/60\n",
            "443/443 [==============================] - 32s 73ms/step - loss: 0.6919 - accuracy: 0.5058 - val_loss: 0.6890 - val_accuracy: 0.5093\n",
            "Epoch 3/60\n",
            "443/443 [==============================] - 33s 73ms/step - loss: 0.6905 - accuracy: 0.5110 - val_loss: 0.6880 - val_accuracy: 0.5084\n",
            "Epoch 4/60\n",
            "443/443 [==============================] - 32s 73ms/step - loss: 0.6977 - accuracy: 0.5033 - val_loss: 0.6933 - val_accuracy: 0.4940\n",
            "Epoch 5/60\n",
            "443/443 [==============================] - 33s 74ms/step - loss: 0.6934 - accuracy: 0.4983 - val_loss: 0.6828 - val_accuracy: 0.6782\n",
            "Epoch 6/60\n",
            "443/443 [==============================] - 33s 73ms/step - loss: 0.6786 - accuracy: 0.5749 - val_loss: 0.6589 - val_accuracy: 0.5901\n",
            "Epoch 7/60\n",
            "443/443 [==============================] - 33s 74ms/step - loss: 0.6566 - accuracy: 0.6124 - val_loss: 0.6264 - val_accuracy: 0.6562\n",
            "Epoch 8/60\n",
            "443/443 [==============================] - 33s 73ms/step - loss: 0.6152 - accuracy: 0.6588 - val_loss: 0.5025 - val_accuracy: 0.7862\n",
            "Epoch 9/60\n",
            "443/443 [==============================] - 33s 73ms/step - loss: 0.5361 - accuracy: 0.7449 - val_loss: 0.3808 - val_accuracy: 0.8334\n",
            "Epoch 10/60\n",
            "443/443 [==============================] - 33s 75ms/step - loss: 0.4363 - accuracy: 0.8021 - val_loss: 0.3687 - val_accuracy: 0.8371\n",
            "Epoch 11/60\n",
            "443/443 [==============================] - 33s 74ms/step - loss: 0.4000 - accuracy: 0.8198 - val_loss: 0.3465 - val_accuracy: 0.8497\n",
            "Epoch 12/60\n",
            "443/443 [==============================] - 33s 74ms/step - loss: 0.3803 - accuracy: 0.8328 - val_loss: 0.3193 - val_accuracy: 0.8622\n",
            "Epoch 13/60\n",
            "443/443 [==============================] - 32s 73ms/step - loss: 0.3718 - accuracy: 0.8338 - val_loss: 0.3181 - val_accuracy: 0.8641\n",
            "Epoch 14/60\n",
            "443/443 [==============================] - 33s 74ms/step - loss: 0.3554 - accuracy: 0.8465 - val_loss: 0.3130 - val_accuracy: 0.8652\n",
            "Epoch 15/60\n",
            "443/443 [==============================] - 34s 77ms/step - loss: 0.3428 - accuracy: 0.8510 - val_loss: 0.3045 - val_accuracy: 0.8711\n",
            "Epoch 16/60\n",
            "443/443 [==============================] - 33s 73ms/step - loss: 0.3400 - accuracy: 0.8517 - val_loss: 0.2957 - val_accuracy: 0.8746\n",
            "Epoch 17/60\n",
            "443/443 [==============================] - 33s 74ms/step - loss: 0.3333 - accuracy: 0.8557 - val_loss: 0.2891 - val_accuracy: 0.8775\n",
            "Epoch 18/60\n",
            "443/443 [==============================] - 33s 74ms/step - loss: 0.3279 - accuracy: 0.8594 - val_loss: 0.2865 - val_accuracy: 0.8785\n",
            "Epoch 19/60\n",
            "443/443 [==============================] - 33s 74ms/step - loss: 0.3203 - accuracy: 0.8618 - val_loss: 0.2810 - val_accuracy: 0.8812\n",
            "Epoch 20/60\n",
            "443/443 [==============================] - 33s 74ms/step - loss: 0.3142 - accuracy: 0.8662 - val_loss: 0.2786 - val_accuracy: 0.8824\n",
            "Epoch 21/60\n",
            "443/443 [==============================] - 33s 73ms/step - loss: 0.3117 - accuracy: 0.8653 - val_loss: 0.2838 - val_accuracy: 0.8813\n",
            "Epoch 22/60\n",
            "443/443 [==============================] - 33s 74ms/step - loss: 0.3008 - accuracy: 0.8709 - val_loss: 0.2711 - val_accuracy: 0.8860\n",
            "Epoch 23/60\n",
            "443/443 [==============================] - 33s 74ms/step - loss: 0.2971 - accuracy: 0.8727 - val_loss: 0.2671 - val_accuracy: 0.8866\n",
            "Epoch 24/60\n",
            "443/443 [==============================] - 33s 74ms/step - loss: 0.2943 - accuracy: 0.8738 - val_loss: 0.2700 - val_accuracy: 0.8856\n",
            "Epoch 25/60\n",
            "443/443 [==============================] - 33s 74ms/step - loss: 0.2924 - accuracy: 0.8737 - val_loss: 0.2642 - val_accuracy: 0.8890\n",
            "Epoch 26/60\n",
            "443/443 [==============================] - 33s 74ms/step - loss: 0.2913 - accuracy: 0.8761 - val_loss: 0.2584 - val_accuracy: 0.8907\n",
            "Epoch 27/60\n",
            "443/443 [==============================] - 33s 74ms/step - loss: 0.2873 - accuracy: 0.8783 - val_loss: 0.2693 - val_accuracy: 0.8871\n",
            "Epoch 28/60\n",
            "443/443 [==============================] - 33s 74ms/step - loss: 0.2835 - accuracy: 0.8802 - val_loss: 0.2598 - val_accuracy: 0.8916\n",
            "Epoch 29/60\n",
            "443/443 [==============================] - 33s 74ms/step - loss: 0.2792 - accuracy: 0.8810 - val_loss: 0.2553 - val_accuracy: 0.8927\n",
            "Epoch 30/60\n",
            "443/443 [==============================] - 33s 74ms/step - loss: 0.2766 - accuracy: 0.8832 - val_loss: 0.2548 - val_accuracy: 0.8948\n",
            "Epoch 31/60\n",
            "443/443 [==============================] - 33s 74ms/step - loss: 0.2742 - accuracy: 0.8848 - val_loss: 0.2556 - val_accuracy: 0.8954\n",
            "Epoch 32/60\n",
            "443/443 [==============================] - 33s 74ms/step - loss: 0.2706 - accuracy: 0.8859 - val_loss: 0.2547 - val_accuracy: 0.8951\n",
            "Epoch 33/60\n",
            "443/443 [==============================] - 33s 75ms/step - loss: 0.2648 - accuracy: 0.8893 - val_loss: 0.2562 - val_accuracy: 0.8934\n",
            "Epoch 34/60\n",
            "443/443 [==============================] - 33s 75ms/step - loss: 0.2662 - accuracy: 0.8873 - val_loss: 0.2510 - val_accuracy: 0.8949\n",
            "Epoch 35/60\n",
            "443/443 [==============================] - 33s 74ms/step - loss: 0.2596 - accuracy: 0.8910 - val_loss: 0.2530 - val_accuracy: 0.8986\n",
            "Epoch 36/60\n",
            "443/443 [==============================] - 33s 74ms/step - loss: 0.2592 - accuracy: 0.8910 - val_loss: 0.2491 - val_accuracy: 0.8965\n",
            "Epoch 37/60\n",
            "443/443 [==============================] - 33s 74ms/step - loss: 0.2638 - accuracy: 0.8911 - val_loss: 0.2556 - val_accuracy: 0.8981\n",
            "Epoch 38/60\n",
            "443/443 [==============================] - 33s 74ms/step - loss: 0.2518 - accuracy: 0.8947 - val_loss: 0.2512 - val_accuracy: 0.8972\n",
            "Epoch 39/60\n",
            "443/443 [==============================] - 33s 75ms/step - loss: 0.2517 - accuracy: 0.8959 - val_loss: 0.2574 - val_accuracy: 0.8950\n",
            "Epoch 40/60\n",
            "443/443 [==============================] - 33s 75ms/step - loss: 0.2517 - accuracy: 0.8947 - val_loss: 0.2472 - val_accuracy: 0.8979\n",
            "Epoch 41/60\n",
            "443/443 [==============================] - 33s 74ms/step - loss: 0.2440 - accuracy: 0.8995 - val_loss: 0.2544 - val_accuracy: 0.8937\n",
            "Epoch 42/60\n",
            "443/443 [==============================] - 33s 74ms/step - loss: 0.2453 - accuracy: 0.8982 - val_loss: 0.2484 - val_accuracy: 0.8978\n",
            "Epoch 43/60\n",
            "443/443 [==============================] - 33s 74ms/step - loss: 0.2500 - accuracy: 0.8944 - val_loss: 0.2550 - val_accuracy: 0.8959\n",
            "Epoch 44/60\n",
            "443/443 [==============================] - 33s 75ms/step - loss: 0.2433 - accuracy: 0.8979 - val_loss: 0.2473 - val_accuracy: 0.8988\n",
            "Epoch 45/60\n",
            "443/443 [==============================] - 33s 75ms/step - loss: 0.2368 - accuracy: 0.9014 - val_loss: 0.2440 - val_accuracy: 0.9005\n",
            "Epoch 46/60\n",
            "443/443 [==============================] - 33s 74ms/step - loss: 0.2422 - accuracy: 0.9004 - val_loss: 0.2444 - val_accuracy: 0.8995\n",
            "Epoch 47/60\n",
            "443/443 [==============================] - 33s 75ms/step - loss: 0.2406 - accuracy: 0.9019 - val_loss: 0.2458 - val_accuracy: 0.9003\n",
            "Epoch 48/60\n",
            "443/443 [==============================] - 33s 74ms/step - loss: 0.2346 - accuracy: 0.9041 - val_loss: 0.2427 - val_accuracy: 0.9007\n",
            "Epoch 49/60\n",
            "443/443 [==============================] - 33s 75ms/step - loss: 0.2339 - accuracy: 0.9025 - val_loss: 0.2449 - val_accuracy: 0.9007\n",
            "Epoch 50/60\n",
            "443/443 [==============================] - 33s 74ms/step - loss: 0.2266 - accuracy: 0.9065 - val_loss: 0.2427 - val_accuracy: 0.9029\n",
            "Epoch 51/60\n",
            "443/443 [==============================] - 33s 75ms/step - loss: 0.2323 - accuracy: 0.9050 - val_loss: 0.2418 - val_accuracy: 0.9027\n",
            "Epoch 52/60\n",
            "443/443 [==============================] - 33s 75ms/step - loss: 0.2298 - accuracy: 0.9063 - val_loss: 0.2457 - val_accuracy: 0.8997\n",
            "Epoch 53/60\n",
            "443/443 [==============================] - 33s 74ms/step - loss: 0.2228 - accuracy: 0.9097 - val_loss: 0.2434 - val_accuracy: 0.9022\n",
            "Epoch 54/60\n",
            "443/443 [==============================] - 33s 74ms/step - loss: 0.2292 - accuracy: 0.9036 - val_loss: 0.2558 - val_accuracy: 0.8981\n",
            "Epoch 55/60\n",
            "443/443 [==============================] - 33s 74ms/step - loss: 0.2302 - accuracy: 0.9041 - val_loss: 0.2460 - val_accuracy: 0.9029\n",
            "Epoch 56/60\n",
            "443/443 [==============================] - 33s 74ms/step - loss: 0.2160 - accuracy: 0.9116 - val_loss: 0.2418 - val_accuracy: 0.9029\n",
            "Epoch 57/60\n",
            "443/443 [==============================] - 33s 75ms/step - loss: 0.2196 - accuracy: 0.9109 - val_loss: 0.2432 - val_accuracy: 0.9026\n",
            "Epoch 58/60\n",
            "443/443 [==============================] - 33s 74ms/step - loss: 0.2203 - accuracy: 0.9108 - val_loss: 0.2425 - val_accuracy: 0.9025\n",
            "Epoch 59/60\n",
            "443/443 [==============================] - 33s 74ms/step - loss: 0.2176 - accuracy: 0.9121 - val_loss: 0.2427 - val_accuracy: 0.9005\n",
            "Epoch 60/60\n",
            "443/443 [==============================] - 33s 75ms/step - loss: 0.2122 - accuracy: 0.9125 - val_loss: 0.2514 - val_accuracy: 0.8942\n"
          ],
          "name": "stdout"
        }
      ]
    },
    {
      "cell_type": "markdown",
      "metadata": {
        "id": "C5q6XikmnvCg"
      },
      "source": [
        "### **Verificación de las metricas del modelo establecido**"
      ]
    },
    {
      "cell_type": "code",
      "metadata": {
        "colab": {
          "base_uri": "https://localhost:8080/",
          "height": 791
        },
        "id": "1v-hwoCxll5g",
        "outputId": "dd8cf239-f75e-4a2d-e6bc-db501f5f475c"
      },
      "source": [
        "plt.plot(history_glove.history['accuracy'])\n",
        "plt.plot(history_glove.history['val_accuracy'])\n",
        "\n",
        "plt.title('model accuracy')\n",
        "plt.ylabel('accuracy')\n",
        "plt.xlabel('epoch')\n",
        "plt.legend(['train','test'], loc = 'upper left')\n",
        "plt.savefig('accuracy.jpg', bbox_inches='tight', dpi=150)\n",
        "plt.show()\n",
        "\n",
        "plt.plot(history_glove.history['loss'])\n",
        "plt.plot(history_glove.history['val_loss'])\n",
        "\n",
        "plt.title('model loss')\n",
        "plt.ylabel('loss')\n",
        "plt.xlabel('epoch')\n",
        "plt.legend(['train','test'], loc = 'upper left')\n",
        "plt.savefig('loss.jpg', bbox_inches='tight', dpi=150)\n",
        "plt.show()"
      ],
      "execution_count": 50,
      "outputs": [
        {
          "output_type": "display_data",
          "data": {
            "image/png": "[encoded data removed]",
            "text/plain": [
              "<Figure size 576x432 with 1 Axes>"
            ]
          },
          "metadata": {
            "tags": [],
            "needs_background": "light"
          }
        },
        {
          "output_type": "display_data",
          "data": {
            "image/png": "[encoded data removed]",
            "text/plain": [
              "<Figure size 576x432 with 1 Axes>"
            ]
          },
          "metadata": {
            "tags": [],
            "needs_background": "light"
          }
        }
      ]
    },
    {
      "cell_type": "code",
      "metadata": {
        "id": "11V4TKE0MkIf"
      },
      "source": [
        "## Guardado del modelo\n",
        "model_glove.save('/content/gdrive/MyDrive/Diplomado de Inteligencia artificial y deeplearning Unal/model_Glove_final_0.90.h5')"
      ],
      "execution_count": 51,
      "outputs": []
    },
    {
      "cell_type": "code",
      "metadata": {
        "id": "qmkghBZl2fxR"
      },
      "source": [
        "## Carga del modelo guardado\n",
        "new_model = keras.models.load_model('/content/gdrive/MyDrive/Diplomado de Inteligencia artificial y deeplearning Unal/model_Glove1_0.90.h5')"
      ],
      "execution_count": null,
      "outputs": []
    },
    {
      "cell_type": "markdown",
      "metadata": {
        "id": "Tv9fI8hyoLzm"
      },
      "source": [
        "### **Prueba del modelo en datos que desconoce**"
      ]
    },
    {
      "cell_type": "code",
      "metadata": {
        "colab": {
          "base_uri": "https://localhost:8080/"
        },
        "id": "lSS6ruRvmBeL",
        "outputId": "0a105173-ee4f-4fb9-9db7-141b8874c9f4"
      },
      "source": [
        "score = model_glove.evaluate(X_test, y_test, verbose=1)\n",
        "\n",
        "print(\"Test Loss:\", score[0])\n",
        "print(\"Test Accuracy:\", score[1])"
      ],
      "execution_count": 52,
      "outputs": [
        {
          "output_type": "stream",
          "text": [
            "947/947 [==============================] - 29s 30ms/step - loss: 0.2502 - accuracy: 0.8967\n",
            "Test Loss: 0.2501554489135742\n",
            "Test Accuracy: 0.8967360854148865\n"
          ],
          "name": "stdout"
        }
      ]
    },
    {
      "cell_type": "code",
      "metadata": {
        "colab": {
          "base_uri": "https://localhost:8080/"
        },
        "id": "IgCgXMmZEL0i",
        "outputId": "605399dc-bfdb-43e2-c85e-651784204c1d"
      },
      "source": [
        "model_glove.predict(X_test)"
      ],
      "execution_count": 53,
      "outputs": [
        {
          "output_type": "stream",
          "text": [
            "WARNING:tensorflow:Model was constructed with shape (None, 300) for input KerasTensor(type_spec=TensorSpec(shape=(None, 300), dtype=tf.float32, name='embedding_2_input'), name='embedding_2_input', description=\"created by layer 'embedding_2_input'\"), but it was called on an input with incompatible shape (None, 500).\n"
          ],
          "name": "stdout"
        },
        {
          "output_type": "stream",
          "text": [
            "WARNING:tensorflow:Model was constructed with shape (None, 300) for input KerasTensor(type_spec=TensorSpec(shape=(None, 300), dtype=tf.float32, name='embedding_2_input'), name='embedding_2_input', description=\"created by layer 'embedding_2_input'\"), but it was called on an input with incompatible shape (None, 500).\n"
          ],
          "name": "stderr"
        },
        {
          "output_type": "execute_result",
          "data": {
            "text/plain": [
              "array([[0.99171793],\n",
              "       [0.00670978],\n",
              "       [0.96261424],\n",
              "       ...,\n",
              "       [0.987929  ],\n",
              "       [0.96217877],\n",
              "       [0.97740376]], dtype=float32)"
            ]
          },
          "metadata": {
            "tags": []
          },
          "execution_count": 53
        }
      ]
    },
    {
      "cell_type": "markdown",
      "metadata": {
        "id": "S0t8HxMUF7Sk"
      },
      "source": [
        "### **Predicción y clasificación del sentimiento**"
      ]
    },
    {
      "cell_type": "code",
      "metadata": {
        "colab": {
          "base_uri": "https://localhost:8080/"
        },
        "id": "C5mkS-YzEvpn",
        "outputId": "e92557ef-5012-4dd2-cdce-8514f5ca08dc"
      },
      "source": [
        "## Ejemplo de predicción y clasificación de un sentimiento negativo\n",
        "test_word = []\n",
        "\n",
        "# Ejemplo para un sentimiento negativo\n",
        "test_word.append(\"I consider the film to be boring and in several sections really bad, I do not recommend it, do not waste your time\")\n",
        "\n",
        "tw = tokenizer.texts_to_sequences(test_word)\n",
        "tw = pad_sequences(tw,maxlen=500)\n",
        "tw"
      ],
      "execution_count": 60,
      "outputs": [
        {
          "output_type": "execute_result",
          "data": {
            "text/plain": [
              "array([[   0,    0,    0,    0,    0,    0,    0,    0,    0,    0,    0,\n",
              "           0,    0,    0,    0,    0,    0,    0,    0,    0,    0,    0,\n",
              "           0,    0,    0,    0,    0,    0,    0,    0,    0,    0,    0,\n",
              "           0,    0,    0,    0,    0,    0,    0,    0,    0,    0,    0,\n",
              "           0,    0,    0,    0,    0,    0,    0,    0,    0,    0,    0,\n",
              "           0,    0,    0,    0,    0,    0,    0,    0,    0,    0,    0,\n",
              "           0,    0,    0,    0,    0,    0,    0,    0,    0,    0,    0,\n",
              "           0,    0,    0,    0,    0,    0,    0,    0,    0,    0,    0,\n",
              "           0,    0,    0,    0,    0,    0,    0,    0,    0,    0,    0,\n",
              "           0,    0,    0,    0,    0,    0,    0,    0,    0,    0,    0,\n",
              "           0,    0,    0,    0,    0,    0,    0,    0,    0,    0,    0,\n",
              "           0,    0,    0,    0,    0,    0,    0,    0,    0,    0,    0,\n",
              "           0,    0,    0,    0,    0,    0,    0,    0,    0,    0,    0,\n",
              "           0,    0,    0,    0,    0,    0,    0,    0,    0,    0,    0,\n",
              "           0,    0,    0,    0,    0,    0,    0,    0,    0,    0,    0,\n",
              "           0,    0,    0,    0,    0,    0,    0,    0,    0,    0,    0,\n",
              "           0,    0,    0,    0,    0,    0,    0,    0,    0,    0,    0,\n",
              "           0,    0,    0,    0,    0,    0,    0,    0,    0,    0,    0,\n",
              "           0,    0,    0,    0,    0,    0,    0,    0,    0,    0,    0,\n",
              "           0,    0,    0,    0,    0,    0,    0,    0,    0,    0,    0,\n",
              "           0,    0,    0,    0,    0,    0,    0,    0,    0,    0,    0,\n",
              "           0,    0,    0,    0,    0,    0,    0,    0,    0,    0,    0,\n",
              "           0,    0,    0,    0,    0,    0,    0,    0,    0,    0,    0,\n",
              "           0,    0,    0,    0,    0,    0,    0,    0,    0,    0,    0,\n",
              "           0,    0,    0,    0,    0,    0,    0,    0,    0,    0,    0,\n",
              "           0,    0,    0,    0,    0,    0,    0,    0,    0,    0,    0,\n",
              "           0,    0,    0,    0,    0,    0,    0,    0,    0,    0,    0,\n",
              "           0,    0,    0,    0,    0,    0,    0,    0,    0,    0,    0,\n",
              "           0,    0,    0,    0,    0,    0,    0,    0,    0,    0,    0,\n",
              "           0,    0,    0,    0,    0,    0,    0,    0,    0,    0,    0,\n",
              "           0,    0,    0,    0,    0,    0,    0,    0,    0,    0,    0,\n",
              "           0,    0,    0,    0,    0,    0,    0,    0,    0,    0,    0,\n",
              "           0,    0,    0,    0,    0,    0,    0,    0,    0,    0,    0,\n",
              "           0,    0,    0,    0,    0,    0,    0,    0,    0,    0,    0,\n",
              "           0,    0,    0,    0,    0,    0,    0,    0,    0,    0,    0,\n",
              "           0,    0,    0,    0,    0,    0,    0,    0,    0,    0,    0,\n",
              "           0,    0,    0,    0,    0,    0,    0,    0,    0,    0,    0,\n",
              "           0,    0,    0,    0,    0,    0,    0,    0,    0,    0,    0,\n",
              "           0,    0,    0,    0,    0,    0,    0,    0,    0,    0,    0,\n",
              "           0,    0,    0,    0,    0,    0,    0,    0,    0,    0,    0,\n",
              "           0,    0,    0,    0,    0,    0,    0,    0,    0,    0,    0,\n",
              "           0,    0,    0,    0,    0,    0,    0,    0,    0,    0,    0,\n",
              "           0,    0,    0,    0,    0,    0,    0,    0,    0,    0,    0,\n",
              "           0,    0,    0,    0,   96, 1100,    1,   16,    4,   25,  323,\n",
              "           2,    7,  396, 5542,   65,   90,   96,   77,   19,  338,    6,\n",
              "          77,   19,  437,  116,   53]], dtype=int32)"
            ]
          },
          "metadata": {
            "tags": []
          },
          "execution_count": 60
        }
      ]
    },
    {
      "cell_type": "code",
      "metadata": {
        "colab": {
          "base_uri": "https://localhost:8080/"
        },
        "id": "9VzXormuE9Ne",
        "outputId": "8f1fa85f-84b6-4f45-9ac5-16f8d1e2acc4"
      },
      "source": [
        "prediction = model_glove.predict(tw)\n",
        "prediction"
      ],
      "execution_count": 61,
      "outputs": [
        {
          "output_type": "execute_result",
          "data": {
            "text/plain": [
              "array([[0.017288]], dtype=float32)"
            ]
          },
          "metadata": {
            "tags": []
          },
          "execution_count": 61
        }
      ]
    },
    {
      "cell_type": "code",
      "metadata": {
        "colab": {
          "base_uri": "https://localhost:8080/"
        },
        "id": "_C7nvxNpGdAE",
        "outputId": "5f9c56d4-8f18-4e5f-a7cb-d5ac9e56d829"
      },
      "source": [
        "if prediction <0.5:\n",
        "  print(\"Sentimiento Negativo\") \n",
        "else:\n",
        "  print(\"Sentimiento Positivo\")"
      ],
      "execution_count": 62,
      "outputs": [
        {
          "output_type": "stream",
          "text": [
            "Sentimiento Negativo\n"
          ],
          "name": "stdout"
        }
      ]
    },
    {
      "cell_type": "code",
      "metadata": {
        "colab": {
          "base_uri": "https://localhost:8080/"
        },
        "id": "AZTgkQeKGO6p",
        "outputId": "2ea3cc74-8610-471e-9c70-8207c41c61b1"
      },
      "source": [
        "## Ejemplo de predicción y clasificación de un sentimiento positivo\n",
        "test_word = []\n",
        "\n",
        "# Ejemplo para un sentimiento positivo\n",
        "test_word.append(\"What a good movie, highly recommended, I found it entertaining and fun\")\n",
        "\n",
        "tw = tokenizer.texts_to_sequences(test_word)\n",
        "tw = pad_sequences(tw,maxlen=500)\n",
        "tw"
      ],
      "execution_count": 63,
      "outputs": [
        {
          "output_type": "execute_result",
          "data": {
            "text/plain": [
              "array([[  0,   0,   0,   0,   0,   0,   0,   0,   0,   0,   0,   0,   0,\n",
              "          0,   0,   0,   0,   0,   0,   0,   0,   0,   0,   0,   0,   0,\n",
              "          0,   0,   0,   0,   0,   0,   0,   0,   0,   0,   0,   0,   0,\n",
              "          0,   0,   0,   0,   0,   0,   0,   0,   0,   0,   0,   0,   0,\n",
              "          0,   0,   0,   0,   0,   0,   0,   0,   0,   0,   0,   0,   0,\n",
              "          0,   0,   0,   0,   0,   0,   0,   0,   0,   0,   0,   0,   0,\n",
              "          0,   0,   0,   0,   0,   0,   0,   0,   0,   0,   0,   0,   0,\n",
              "          0,   0,   0,   0,   0,   0,   0,   0,   0,   0,   0,   0,   0,\n",
              "          0,   0,   0,   0,   0,   0,   0,   0,   0,   0,   0,   0,   0,\n",
              "          0,   0,   0,   0,   0,   0,   0,   0,   0,   0,   0,   0,   0,\n",
              "          0,   0,   0,   0,   0,   0,   0,   0,   0,   0,   0,   0,   0,\n",
              "          0,   0,   0,   0,   0,   0,   0,   0,   0,   0,   0,   0,   0,\n",
              "          0,   0,   0,   0,   0,   0,   0,   0,   0,   0,   0,   0,   0,\n",
              "          0,   0,   0,   0,   0,   0,   0,   0,   0,   0,   0,   0,   0,\n",
              "          0,   0,   0,   0,   0,   0,   0,   0,   0,   0,   0,   0,   0,\n",
              "          0,   0,   0,   0,   0,   0,   0,   0,   0,   0,   0,   0,   0,\n",
              "          0,   0,   0,   0,   0,   0,   0,   0,   0,   0,   0,   0,   0,\n",
              "          0,   0,   0,   0,   0,   0,   0,   0,   0,   0,   0,   0,   0,\n",
              "          0,   0,   0,   0,   0,   0,   0,   0,   0,   0,   0,   0,   0,\n",
              "          0,   0,   0,   0,   0,   0,   0,   0,   0,   0,   0,   0,   0,\n",
              "          0,   0,   0,   0,   0,   0,   0,   0,   0,   0,   0,   0,   0,\n",
              "          0,   0,   0,   0,   0,   0,   0,   0,   0,   0,   0,   0,   0,\n",
              "          0,   0,   0,   0,   0,   0,   0,   0,   0,   0,   0,   0,   0,\n",
              "          0,   0,   0,   0,   0,   0,   0,   0,   0,   0,   0,   0,   0,\n",
              "          0,   0,   0,   0,   0,   0,   0,   0,   0,   0,   0,   0,   0,\n",
              "          0,   0,   0,   0,   0,   0,   0,   0,   0,   0,   0,   0,   0,\n",
              "          0,   0,   0,   0,   0,   0,   0,   0,   0,   0,   0,   0,   0,\n",
              "          0,   0,   0,   0,   0,   0,   0,   0,   0,   0,   0,   0,   0,\n",
              "          0,   0,   0,   0,   0,   0,   0,   0,   0,   0,   0,   0,   0,\n",
              "          0,   0,   0,   0,   0,   0,   0,   0,   0,   0,   0,   0,   0,\n",
              "          0,   0,   0,   0,   0,   0,   0,   0,   0,   0,   0,   0,   0,\n",
              "          0,   0,   0,   0,   0,   0,   0,   0,   0,   0,   0,   0,   0,\n",
              "          0,   0,   0,   0,   0,   0,   0,   0,   0,   0,   0,   0,   0,\n",
              "          0,   0,   0,   0,   0,   0,   0,   0,   0,   0,   0,   0,   0,\n",
              "          0,   0,   0,   0,   0,   0,   0,   0,   0,   0,   0,   0,   0,\n",
              "          0,   0,   0,   0,   0,   0,   0,   0,   0,   0,   0,   0,   0,\n",
              "          0,   0,   0,   0,   0,   0,   0,   0,   0,   0,   0,   0,   0,\n",
              "          0,   0,   0,   0,   0,   0,   0,  43, 128,  44,  13, 470, 940,\n",
              "         96, 253,   6, 394,   2, 226]], dtype=int32)"
            ]
          },
          "metadata": {
            "tags": []
          },
          "execution_count": 63
        }
      ]
    },
    {
      "cell_type": "code",
      "metadata": {
        "colab": {
          "base_uri": "https://localhost:8080/"
        },
        "id": "PR40jQ7lGZ16",
        "outputId": "757cd698-86cc-4a47-9ef4-b92586eadce7"
      },
      "source": [
        "prediction = model_glove.predict(tw)\n",
        "prediction"
      ],
      "execution_count": 64,
      "outputs": [
        {
          "output_type": "execute_result",
          "data": {
            "text/plain": [
              "array([[0.98435074]], dtype=float32)"
            ]
          },
          "metadata": {
            "tags": []
          },
          "execution_count": 64
        }
      ]
    },
    {
      "cell_type": "code",
      "metadata": {
        "colab": {
          "base_uri": "https://localhost:8080/"
        },
        "id": "YbUSCLBME0PX",
        "outputId": "0af32d5a-23a6-449b-d560-0f3804230a98"
      },
      "source": [
        "if prediction <0.5:\n",
        "  print(\"Sentimiento Negativo\") \n",
        "else:\n",
        "  print(\"Sentimiento Positivo\")"
      ],
      "execution_count": 65,
      "outputs": [
        {
          "output_type": "stream",
          "text": [
            "Sentimiento Positivo\n"
          ],
          "name": "stdout"
        }
      ]
    },
    {
      "cell_type": "markdown",
      "metadata": {
        "id": "QhDdZAvLGwTE"
      },
      "source": [
        "### **Matriz de confusión**"
      ]
    },
    {
      "cell_type": "code",
      "metadata": {
        "colab": {
          "base_uri": "https://localhost:8080/"
        },
        "id": "9Wb0D5wYR1Oo",
        "outputId": "61824112-2dd0-466c-f1f3-aaa0258c8127"
      },
      "source": [
        "from sklearn.metrics import classification_report, confusion_matrix\n",
        "from sklearn.metrics import plot_confusion_matrix\n",
        "\n",
        "predict = model_glove.predict(X_test)\n",
        "y_pred = [1 * (x[0]>=0.5) for x in predict]\n",
        "\n",
        "print('Confusion Matrix:\\n')\n",
        "print(confusion_matrix(y_test, y_pred),'\\n')\n",
        "\n",
        "print(classification_report(y_test, y_pred))"
      ],
      "execution_count": 67,
      "outputs": [
        {
          "output_type": "stream",
          "text": [
            "Confusion Matrix:\n",
            "\n",
            "[[12910  2200]\n",
            " [  929 14262]] \n",
            "\n",
            "              precision    recall  f1-score   support\n",
            "\n",
            "         0.0       0.93      0.85      0.89     15110\n",
            "         1.0       0.87      0.94      0.90     15191\n",
            "\n",
            "    accuracy                           0.90     30301\n",
            "   macro avg       0.90      0.90      0.90     30301\n",
            "weighted avg       0.90      0.90      0.90     30301\n",
            "\n"
          ],
          "name": "stdout"
        }
      ]
    },
    {
      "cell_type": "markdown",
      "metadata": {
        "id": "VTMmrhkAOopa"
      },
      "source": [
        "## **Verificación de las palabras que definen la clase de sentimiento entregado en los comentarios de los videos y las peliculas de amazon**"
      ]
    },
    {
      "cell_type": "code",
      "metadata": {
        "colab": {
          "base_uri": "https://localhost:8080/"
        },
        "id": "iWYVpOyB7Mbe",
        "outputId": "52f404a2-12e4-4b8e-b270-6bd21b173b44"
      },
      "source": [
        "# Instalación de la librería vadersentiment\n",
        "!pip install vaderSentiment"
      ],
      "execution_count": 68,
      "outputs": [
        {
          "output_type": "stream",
          "text": [
            "Collecting vaderSentiment\n",
            "\u001b[?25l  Downloading https://files.pythonhosted.org/packages/76/fc/310e16254683c1ed35eeb97386986d6c00bc29df17ce280aed64d55537e9/vaderSentiment-3.3.2-py2.py3-none-any.whl (125kB)\n",
            "\r\u001b[K     |██▋                             | 10kB 14.7MB/s eta 0:00:01\r\u001b[K     |█████▏                          | 20kB 14.1MB/s eta 0:00:01\r\u001b[K     |███████▉                        | 30kB 9.6MB/s eta 0:00:01\r\u001b[K     |██████████▍                     | 40kB 7.9MB/s eta 0:00:01\r\u001b[K     |█████████████                   | 51kB 5.5MB/s eta 0:00:01\r\u001b[K     |███████████████▋                | 61kB 6.0MB/s eta 0:00:01\r\u001b[K     |██████████████████▏             | 71kB 5.7MB/s eta 0:00:01\r\u001b[K     |████████████████████▉           | 81kB 6.2MB/s eta 0:00:01\r\u001b[K     |███████████████████████▍        | 92kB 6.4MB/s eta 0:00:01\r\u001b[K     |██████████████████████████      | 102kB 6.6MB/s eta 0:00:01\r\u001b[K     |████████████████████████████▋   | 112kB 6.6MB/s eta 0:00:01\r\u001b[K     |███████████████████████████████▏| 122kB 6.6MB/s eta 0:00:01\r\u001b[K     |████████████████████████████████| 133kB 6.6MB/s \n",
            "\u001b[?25hRequirement already satisfied: requests in /usr/local/lib/python3.7/dist-packages (from vaderSentiment) (2.23.0)\n",
            "Requirement already satisfied: idna<3,>=2.5 in /usr/local/lib/python3.7/dist-packages (from requests->vaderSentiment) (2.10)\n",
            "Requirement already satisfied: chardet<4,>=3.0.2 in /usr/local/lib/python3.7/dist-packages (from requests->vaderSentiment) (3.0.4)\n",
            "Requirement already satisfied: urllib3!=1.25.0,!=1.25.1,<1.26,>=1.21.1 in /usr/local/lib/python3.7/dist-packages (from requests->vaderSentiment) (1.24.3)\n",
            "Requirement already satisfied: certifi>=2017.4.17 in /usr/local/lib/python3.7/dist-packages (from requests->vaderSentiment) (2020.12.5)\n",
            "Installing collected packages: vaderSentiment\n",
            "Successfully installed vaderSentiment-3.3.2\n"
          ],
          "name": "stdout"
        }
      ]
    },
    {
      "cell_type": "markdown",
      "metadata": {
        "id": "2xTE77ra4vwl"
      },
      "source": [
        "### **Proceso de busqueda de palabras y frases que definen los sentimientos positivos y negativos**"
      ]
    },
    {
      "cell_type": "code",
      "metadata": {
        "colab": {
          "base_uri": "https://localhost:8080/"
        },
        "id": "PPHHnJ7E1nFP",
        "outputId": "279e6a3b-f0ee-4895-cb53-d851dcd42ae1"
      },
      "source": [
        "#from textblob import textblob \n",
        "\n",
        "from nltk.tokenize import word_tokenize, RegexpTokenizer\n",
        "from nltk.sentiment.vader import SentimentIntensityAnalyzer\n",
        "from vaderSentiment.vaderSentiment import SentimentIntensityAnalyzer"
      ],
      "execution_count": null,
      "outputs": [
        {
          "output_type": "stream",
          "text": [
            "/usr/local/lib/python3.7/dist-packages/nltk/twitter/__init__.py:20: UserWarning:\n",
            "\n",
            "The twython library has not been installed. Some functionality from the twitter package will not be available.\n",
            "\n"
          ],
          "name": "stderr"
        }
      ]
    },
    {
      "cell_type": "markdown",
      "metadata": {
        "id": "c3PaBbLPIxf3"
      },
      "source": [
        "### **Palabras que definen los sentimientos positivos de los comentarios de las peliculas y videos de amazon**"
      ]
    },
    {
      "cell_type": "code",
      "metadata": {
        "colab": {
          "base_uri": "https://localhost:8080/",
          "height": 810
        },
        "id": "MKQmI8AqIuKM",
        "outputId": "c965697c-8926-40cc-d95c-2c59348fb28e"
      },
      "source": [
        "%%time\n",
        "# Positive reviews\n",
        "good_indices = amazon_data_bal[\"overall\"] > 3.1\n",
        "good_reviews = amazon_data_bal[good_indices]\n",
        "bad_indices = amazon_data_bal[\"overall\"] < 2.1\n",
        "bad_reviews = amazon_data_bal[bad_indices]\n",
        "\n",
        "common_words = get_top_n_words(good_reviews[\"reviewText\"], 20)\n",
        "for word, freq in common_words:\n",
        "    print(word, freq)\n",
        "\n",
        "df = pd.DataFrame(common_words, columns=[\"words\", 'count'])\n",
        "df.groupby('words').sum()['count'].sort_values(ascending=False).plot(\n",
        "    kind='bar', title='Top 20 words from good reviews'\n",
        ")"
      ],
      "execution_count": 74,
      "outputs": [
        {
          "output_type": "stream",
          "text": [
            "movie 62466\n",
            "film 58694\n",
            "good 24347\n",
            "like 24185\n",
            "great 23770\n",
            "quot 20514\n",
            "just 19702\n",
            "time 19593\n",
            "story 18554\n",
            "dvd 14675\n",
            "love 13901\n",
            "best 13763\n",
            "really 13761\n",
            "movies 12040\n",
            "films 11027\n",
            "watch 10706\n",
            "way 10585\n",
            "life 10242\n",
            "people 9885\n",
            "don 9462\n",
            "CPU times: user 9.25 s, sys: 358 ms, total: 9.61 s\n",
            "Wall time: 9.49 s\n"
          ],
          "name": "stdout"
        },
        {
          "output_type": "display_data",
          "data": {
            "image/png": "[encoded data removed]",
            "text/plain": [
              "<Figure size 576x432 with 1 Axes>"
            ]
          },
          "metadata": {
            "tags": [],
            "needs_background": "light"
          }
        }
      ]
    },
    {
      "cell_type": "markdown",
      "metadata": {
        "id": "uJx2Cu8LI9c0"
      },
      "source": [
        "### **Palabras que definen los sentimientos negativos de los comentarios de las peliculas y videos en amazon**"
      ]
    },
    {
      "cell_type": "code",
      "metadata": {
        "colab": {
          "base_uri": "https://localhost:8080/",
          "height": 810
        },
        "id": "Ev22LNeeI9Gr",
        "outputId": "00129ea6-6dee-4b37-8f21-fe5d9ec26643"
      },
      "source": [
        "%%time\n",
        "\n",
        "# Negative reviews\n",
        "common_words = get_top_n_words(bad_reviews['reviewText'], 20)\n",
        "for word, freq in common_words:\n",
        "    print(word, freq)\n",
        "df = pd.DataFrame(common_words, columns=['words', 'count'])\n",
        "df.groupby('words').sum()['count'].sort_values(ascending=False).plot(\n",
        "    kind='bar', title='Top 20 words from bad reviews'\n",
        ")"
      ],
      "execution_count": 75,
      "outputs": [
        {
          "output_type": "stream",
          "text": [
            "movie 76309\n",
            "film 56209\n",
            "like 33455\n",
            "just 31707\n",
            "good 22646\n",
            "quot 22241\n",
            "time 18698\n",
            "really 17271\n",
            "bad 17136\n",
            "story 16003\n",
            "don 15860\n",
            "dvd 14340\n",
            "people 12743\n",
            "movies 12475\n",
            "better 12244\n",
            "make 12195\n",
            "way 11650\n",
            "did 11597\n",
            "great 11381\n",
            "watch 10797\n",
            "CPU times: user 7.16 s, sys: 28.6 ms, total: 7.19 s\n",
            "Wall time: 7.2 s\n"
          ],
          "name": "stdout"
        },
        {
          "output_type": "display_data",
          "data": {
            "image/png": "[encoded data removed]",
            "text/plain": [
              "<Figure size 576x432 with 1 Axes>"
            ]
          },
          "metadata": {
            "tags": [],
            "needs_background": "light"
          }
        }
      ]
    },
    {
      "cell_type": "markdown",
      "metadata": {
        "id": "xMb9PhTxJHcT"
      },
      "source": [
        "## **Extracción de las palabras claves que definen el sentimiento del comentario de las peliculas**"
      ]
    },
    {
      "cell_type": "code",
      "metadata": {
        "colab": {
          "base_uri": "https://localhost:8080/"
        },
        "id": "hlsX5f456z6I",
        "outputId": "1af609d7-931a-4909-c577-1bc87368fac4"
      },
      "source": [
        "from vaderSentiment.vaderSentiment import SentimentIntensityAnalyzer\n",
        "\n",
        "analyzer=SentimentIntensityAnalyzer()\n",
        "sent=analyzer.polarity_scores(X[0])\n",
        "print(X[0])\n",
        "print(sent)"
      ],
      "execution_count": 69,
      "outputs": [
        {
          "output_type": "stream",
          "text": [
            "The acting was good the story was correct but naked backsides was not necessary Also the Potiphers wife did not need to be so very seductive of naked Joseph Not Christian movie felt that even though it was probably portrayed truthfully Christans do not need to see so explicit scene This should be rated PG at least \n",
            "{'neg': 0.0, 'neu': 0.905, 'pos': 0.095, 'compound': 0.7003}\n"
          ],
          "name": "stdout"
        }
      ]
    },
    {
      "cell_type": "code",
      "metadata": {
        "id": "6RZu-sT395Rl"
      },
      "source": [
        "from textblob import TextBlob\n",
        "\n",
        "def word_polarity(test_subset):\n",
        "    pos_word_list=[]\n",
        "    neu_word_list=[]\n",
        "    neg_word_list=[]\n",
        "\n",
        "    for word in test_subset:               \n",
        "        testimonial = TextBlob(word)\n",
        "        if testimonial.sentiment.polarity >= 0.5:\n",
        "            pos_word_list.append(word)\n",
        "        elif testimonial.sentiment.polarity <= -0.5:\n",
        "            neg_word_list.append(word)\n",
        "        else:\n",
        "            neu_word_list.append(word)\n",
        "\n",
        "    print('Positive :',pos_word_list)        \n",
        "    print('Neutral :',neu_word_list)    \n",
        "    print('Negative :',neg_word_list)   "
      ],
      "execution_count": 71,
      "outputs": []
    },
    {
      "cell_type": "markdown",
      "metadata": {
        "id": "k_br7ba4Jyaz"
      },
      "source": [
        "### **Palabras que definen un sentimiento positivo**"
      ]
    },
    {
      "cell_type": "code",
      "metadata": {
        "colab": {
          "base_uri": "https://localhost:8080/"
        },
        "id": "w6inpErbJ38c",
        "outputId": "d7cfde69-904c-4a0d-cca7-ecc4551ed222"
      },
      "source": [
        "from nltk.tokenize import sent_tokenize, word_tokenize\n",
        "i=100000\n",
        "print(\"La clasificación de esta pelicula fue: \",str(amazon_data_bal[\"target\"][i]))\n",
        "print(sent_tokenize(X[i]))\n",
        "word_polarity(word_tokenize(X[i]))\n",
        "sent=analyzer.polarity_scores(X[i])\n",
        "print(sent)"
      ],
      "execution_count": 90,
      "outputs": [
        {
          "output_type": "stream",
          "text": [
            "La clasificación de esta pelicula fue:  1\n",
            "['The musical numbers were great The sets were totally authentic you really believe you are looking at early th century St Louis Marjorie Main and Judy Garland stole the show Tootie was annoying Except for her character the film was delight']\n",
            "Positive : ['great', 'authentic']\n",
            "Neutral : ['The', 'musical', 'numbers', 'were', 'The', 'sets', 'were', 'totally', 'you', 'really', 'believe', 'you', 'are', 'looking', 'at', 'early', 'th', 'century', 'St', 'Louis', 'Marjorie', 'Main', 'and', 'Judy', 'Garland', 'stole', 'the', 'show', 'Tootie', 'was', 'Except', 'for', 'her', 'character', 'the', 'film', 'was', 'delight']\n",
            "Negative : ['annoying']\n",
            "{'neg': 0.055, 'neu': 0.78, 'pos': 0.164, 'compound': 0.743}\n"
          ],
          "name": "stdout"
        }
      ]
    },
    {
      "cell_type": "markdown",
      "metadata": {
        "id": "nXMDMXEQJ6G_"
      },
      "source": [
        "### **Palabras que definen un sentimiento negativo**"
      ]
    },
    {
      "cell_type": "code",
      "metadata": {
        "colab": {
          "base_uri": "https://localhost:8080/"
        },
        "id": "7BLkIIW-CvCK",
        "outputId": "8bdfe6f5-b808-4c72-b990-ad5cd65043ed"
      },
      "source": [
        "from nltk.tokenize import sent_tokenize, word_tokenize\n",
        "i=1\n",
        "print(\"La clasificación de esta pelicula fue: \",str(amazon_data_bal[\"target\"][i]))\n",
        "print(sent_tokenize(X[i]))\n",
        "word_polarity(word_tokenize(X[i]))\n",
        "sent=analyzer.polarity_scores(X[i])\n",
        "print(sent)"
      ],
      "execution_count": 80,
      "outputs": [
        {
          "output_type": "stream",
          "text": [
            "La calificación de esta pelicula fue:  0\n",
            "['This is so lame The songs are terrible The villan is ripoff of Mr Burns from The Simpsons while the kids look like they re on loan from Charlie Brown show But the biggest lowpoint is the Politically Correct ranting Too bad CBS insists on running this back to back with the classic']\n",
            "Positive : []\n",
            "Neutral : ['This', 'is', 'so', 'The', 'songs', 'are', 'The', 'villan', 'is', 'ripoff', 'of', 'Mr', 'Burns', 'from', 'The', 'Simpsons', 'while', 'the', 'kids', 'look', 'like', 'they', 're', 'on', 'loan', 'from', 'Charlie', 'Brown', 'show', 'But', 'the', 'biggest', 'lowpoint', 'is', 'the', 'Politically', 'Correct', 'ranting', 'Too', 'CBS', 'insists', 'on', 'running', 'this', 'back', 'to', 'back', 'with', 'the', 'classic']\n",
            "Negative : ['lame', 'terrible', 'bad']\n",
            "{'neg': 0.152, 'neu': 0.819, 'pos': 0.029, 'compound': -0.8104}\n"
          ],
          "name": "stdout"
        }
      ]
    }
  ]
}